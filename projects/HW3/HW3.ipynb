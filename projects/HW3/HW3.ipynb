{
 "cells": [
  {
   "cell_type": "markdown",
   "metadata": {},
   "source": [
    "Suppose we have $i=1,\\ldots,n$ consumers who each select exactly one product $j$ from a set of $J$ products. The outcome variable is the identity of the product chosen $y_i \\in \\{1, \\ldots, J\\}$ or equivalently a vector of $J-1$ zeros and $1$ one, where the $1$ indicates the selected product. For example, if the third product was chosen out of 4 products, then either $y=3$ or $y=(0,0,1,0)$ depending on how we want to represent it. Suppose also that we have a vector of data on each product $x_j$ (eg, size, price, etc.). \n",
    "\n",
    "We model the consumer's decision as the selection of the product that provides the most utility, and we'll specify the utility function as a linear function of the product characteristics:\n",
    "\n",
    "$$ U_{ij} = x_j'\\beta + \\epsilon_{ij} $$\n",
    "\n",
    "where $\\epsilon_{ij}$ is an i.i.d. extreme value error term. \n",
    "\n",
    "The choice of the i.i.d. extreme value error term leads to a closed-form expression for the probability that consumer $i$ chooses product $j$:\n",
    "\n",
    "$$ \\mathbb{P}_i(j) = \\frac{e^{x_j'\\beta}}{\\sum_{k=1}^Je^{x_k'\\beta}} $$\n",
    "\n",
    "For example, if there are 4 products, the probability that consumer $i$ chooses product 3 is:\n",
    "\n",
    "$$ \\mathbb{P}_i(3) = \\frac{e^{x_3'\\beta}}{e^{x_1'\\beta} + e^{x_2'\\beta} + e^{x_3'\\beta} + e^{x_4'\\beta}} $$\n",
    "\n",
    "A clever way to write the individual likelihood function for consumer $i$ is the product of the $J$ probabilities, each raised to the power of an indicator variable ($\\delta_{ij}$) that indicates the chosen product:\n",
    "\n",
    "$$ L_i(\\beta) = \\prod_{j=1}^J \\mathbb{P}_i(j)^{\\delta_{ij}} = \\mathbb{P}_i(1)^{\\delta_{i1}} \\times \\ldots \\times \\mathbb{P}_i(J)^{\\delta_{iJ}}$$\n",
    "\n",
    "Notice that if the consumer selected product $j=3$, then $\\delta_{i3}=1$ while $\\delta_{i1}=\\delta_{i2}=\\delta_{i4}=0$ and the likelihood is:\n",
    "\n",
    "$$ L_i(\\beta) = \\mathbb{P}_i(1)^0 \\times \\mathbb{P}_i(2)^0 \\times \\mathbb{P}_i(3)^1 \\times \\mathbb{P}_i(4)^0 = \\mathbb{P}_i(3) = \\frac{e^{x_3'\\beta}}{\\sum_{k=1}^Je^{x_k'\\beta}} $$\n",
    "\n",
    "The joint likelihood (across all consumers) is the product of the $n$ individual likelihoods:\n",
    "\n",
    "$$ L_n(\\beta) = \\prod_{i=1}^n L_i(\\beta) = \\prod_{i=1}^n \\prod_{j=1}^J \\mathbb{P}_i(j)^{\\delta_{ij}} $$\n",
    "\n",
    "And the joint log-likelihood function is:\n",
    "\n",
    "$$ \\ell_n(\\beta) = \\sum_{i=1}^n \\sum_{j=1}^J \\delta_{ij} \\log(\\mathbb{P}_i(j)) $$\n"
   ]
  },
  {
   "cell_type": "markdown",
   "metadata": {},
   "source": [
    "We will use the `yogurt_data` dataset, which provides anonymized consumer identifiers (`id`), a vector indicating the chosen product (`y1`:`y4`), a vector indicating if any products were \"featured\" in the store as a form of advertising (`f1`:`f4`), and the products' prices (`p1`:`p4`). For example, consumer 1 purchased yogurt 4 at a price of 0.079/oz and none of the yogurts were featured/advertised at the time of consumer 1's purchase.  Consumers 2 through 7 each bought yogurt 2, etc."
   ]
  },
  {
   "cell_type": "markdown",
   "metadata": {},
   "source": [
    "_todo: import the data, maybe show the first few rows, and describe the data a bit._"
   ]
  },
  {
   "cell_type": "code",
   "execution_count": 1,
   "metadata": {},
   "outputs": [
    {
     "data": {
      "text/html": [
       "<div>\n",
       "<style scoped>\n",
       "    .dataframe tbody tr th:only-of-type {\n",
       "        vertical-align: middle;\n",
       "    }\n",
       "\n",
       "    .dataframe tbody tr th {\n",
       "        vertical-align: top;\n",
       "    }\n",
       "\n",
       "    .dataframe thead th {\n",
       "        text-align: right;\n",
       "    }\n",
       "</style>\n",
       "<table border=\"1\" class=\"dataframe\">\n",
       "  <thead>\n",
       "    <tr style=\"text-align: right;\">\n",
       "      <th></th>\n",
       "      <th>id</th>\n",
       "      <th>y1</th>\n",
       "      <th>y2</th>\n",
       "      <th>y3</th>\n",
       "      <th>y4</th>\n",
       "      <th>f1</th>\n",
       "      <th>f2</th>\n",
       "      <th>f3</th>\n",
       "      <th>f4</th>\n",
       "      <th>p1</th>\n",
       "      <th>p2</th>\n",
       "      <th>p3</th>\n",
       "      <th>p4</th>\n",
       "    </tr>\n",
       "  </thead>\n",
       "  <tbody>\n",
       "    <tr>\n",
       "      <th>0</th>\n",
       "      <td>1</td>\n",
       "      <td>0</td>\n",
       "      <td>0</td>\n",
       "      <td>0</td>\n",
       "      <td>1</td>\n",
       "      <td>0</td>\n",
       "      <td>0</td>\n",
       "      <td>0</td>\n",
       "      <td>0</td>\n",
       "      <td>0.108</td>\n",
       "      <td>0.081</td>\n",
       "      <td>0.061</td>\n",
       "      <td>0.079</td>\n",
       "    </tr>\n",
       "    <tr>\n",
       "      <th>1</th>\n",
       "      <td>2</td>\n",
       "      <td>0</td>\n",
       "      <td>1</td>\n",
       "      <td>0</td>\n",
       "      <td>0</td>\n",
       "      <td>0</td>\n",
       "      <td>0</td>\n",
       "      <td>0</td>\n",
       "      <td>0</td>\n",
       "      <td>0.108</td>\n",
       "      <td>0.098</td>\n",
       "      <td>0.064</td>\n",
       "      <td>0.075</td>\n",
       "    </tr>\n",
       "    <tr>\n",
       "      <th>2</th>\n",
       "      <td>3</td>\n",
       "      <td>0</td>\n",
       "      <td>1</td>\n",
       "      <td>0</td>\n",
       "      <td>0</td>\n",
       "      <td>0</td>\n",
       "      <td>0</td>\n",
       "      <td>0</td>\n",
       "      <td>0</td>\n",
       "      <td>0.108</td>\n",
       "      <td>0.098</td>\n",
       "      <td>0.061</td>\n",
       "      <td>0.086</td>\n",
       "    </tr>\n",
       "    <tr>\n",
       "      <th>3</th>\n",
       "      <td>4</td>\n",
       "      <td>0</td>\n",
       "      <td>1</td>\n",
       "      <td>0</td>\n",
       "      <td>0</td>\n",
       "      <td>0</td>\n",
       "      <td>0</td>\n",
       "      <td>0</td>\n",
       "      <td>0</td>\n",
       "      <td>0.108</td>\n",
       "      <td>0.098</td>\n",
       "      <td>0.061</td>\n",
       "      <td>0.086</td>\n",
       "    </tr>\n",
       "    <tr>\n",
       "      <th>4</th>\n",
       "      <td>5</td>\n",
       "      <td>0</td>\n",
       "      <td>1</td>\n",
       "      <td>0</td>\n",
       "      <td>0</td>\n",
       "      <td>0</td>\n",
       "      <td>0</td>\n",
       "      <td>0</td>\n",
       "      <td>0</td>\n",
       "      <td>0.125</td>\n",
       "      <td>0.098</td>\n",
       "      <td>0.049</td>\n",
       "      <td>0.079</td>\n",
       "    </tr>\n",
       "  </tbody>\n",
       "</table>\n",
       "</div>"
      ],
      "text/plain": [
       "   id  y1  y2  y3  y4  f1  f2  f3  f4     p1     p2     p3     p4\n",
       "0   1   0   0   0   1   0   0   0   0  0.108  0.081  0.061  0.079\n",
       "1   2   0   1   0   0   0   0   0   0  0.108  0.098  0.064  0.075\n",
       "2   3   0   1   0   0   0   0   0   0  0.108  0.098  0.061  0.086\n",
       "3   4   0   1   0   0   0   0   0   0  0.108  0.098  0.061  0.086\n",
       "4   5   0   1   0   0   0   0   0   0  0.125  0.098  0.049  0.079"
      ]
     },
     "execution_count": 1,
     "metadata": {},
     "output_type": "execute_result"
    }
   ],
   "source": [
    "import pandas as pd\n",
    "\n",
    "yogurt = pd.read_csv('yogurt_data.csv')\n",
    "\n",
    "yogurt.head()"
   ]
  },
  {
   "cell_type": "code",
   "execution_count": 2,
   "metadata": {},
   "outputs": [
    {
     "data": {
      "text/plain": [
       "(2430, 13)"
      ]
     },
     "execution_count": 2,
     "metadata": {},
     "output_type": "execute_result"
    }
   ],
   "source": [
    "yogurt.shape"
   ]
  },
  {
   "cell_type": "code",
   "execution_count": 3,
   "metadata": {},
   "outputs": [
    {
     "name": "stdout",
     "output_type": "stream",
     "text": [
      "<class 'pandas.core.frame.DataFrame'>\n",
      "RangeIndex: 2430 entries, 0 to 2429\n",
      "Data columns (total 13 columns):\n",
      " #   Column  Non-Null Count  Dtype  \n",
      "---  ------  --------------  -----  \n",
      " 0   id      2430 non-null   int64  \n",
      " 1   y1      2430 non-null   int64  \n",
      " 2   y2      2430 non-null   int64  \n",
      " 3   y3      2430 non-null   int64  \n",
      " 4   y4      2430 non-null   int64  \n",
      " 5   f1      2430 non-null   int64  \n",
      " 6   f2      2430 non-null   int64  \n",
      " 7   f3      2430 non-null   int64  \n",
      " 8   f4      2430 non-null   int64  \n",
      " 9   p1      2430 non-null   float64\n",
      " 10  p2      2430 non-null   float64\n",
      " 11  p3      2430 non-null   float64\n",
      " 12  p4      2430 non-null   float64\n",
      "dtypes: float64(4), int64(9)\n",
      "memory usage: 246.9 KB\n"
     ]
    }
   ],
   "source": [
    "yogurt.info()"
   ]
  },
  {
   "cell_type": "code",
   "execution_count": 4,
   "metadata": {},
   "outputs": [
    {
     "data": {
      "text/html": [
       "<div>\n",
       "<style scoped>\n",
       "    .dataframe tbody tr th:only-of-type {\n",
       "        vertical-align: middle;\n",
       "    }\n",
       "\n",
       "    .dataframe tbody tr th {\n",
       "        vertical-align: top;\n",
       "    }\n",
       "\n",
       "    .dataframe thead th {\n",
       "        text-align: right;\n",
       "    }\n",
       "</style>\n",
       "<table border=\"1\" class=\"dataframe\">\n",
       "  <thead>\n",
       "    <tr style=\"text-align: right;\">\n",
       "      <th></th>\n",
       "      <th>id</th>\n",
       "      <th>y1</th>\n",
       "      <th>y2</th>\n",
       "      <th>y3</th>\n",
       "      <th>y4</th>\n",
       "      <th>f1</th>\n",
       "      <th>f2</th>\n",
       "      <th>f3</th>\n",
       "      <th>f4</th>\n",
       "      <th>p1</th>\n",
       "      <th>p2</th>\n",
       "      <th>p3</th>\n",
       "      <th>p4</th>\n",
       "    </tr>\n",
       "  </thead>\n",
       "  <tbody>\n",
       "    <tr>\n",
       "      <th>count</th>\n",
       "      <td>2430.0000</td>\n",
       "      <td>2430.000000</td>\n",
       "      <td>2430.000000</td>\n",
       "      <td>2430.000000</td>\n",
       "      <td>2430.000000</td>\n",
       "      <td>2430.000000</td>\n",
       "      <td>2430.000000</td>\n",
       "      <td>2430.000000</td>\n",
       "      <td>2430.000000</td>\n",
       "      <td>2430.000000</td>\n",
       "      <td>2430.000000</td>\n",
       "      <td>2430.000000</td>\n",
       "      <td>2430.000000</td>\n",
       "    </tr>\n",
       "    <tr>\n",
       "      <th>mean</th>\n",
       "      <td>1215.5000</td>\n",
       "      <td>0.341975</td>\n",
       "      <td>0.401235</td>\n",
       "      <td>0.029218</td>\n",
       "      <td>0.227572</td>\n",
       "      <td>0.055556</td>\n",
       "      <td>0.039506</td>\n",
       "      <td>0.037449</td>\n",
       "      <td>0.037449</td>\n",
       "      <td>0.106248</td>\n",
       "      <td>0.081532</td>\n",
       "      <td>0.053622</td>\n",
       "      <td>0.079507</td>\n",
       "    </tr>\n",
       "    <tr>\n",
       "      <th>std</th>\n",
       "      <td>701.6249</td>\n",
       "      <td>0.474469</td>\n",
       "      <td>0.490249</td>\n",
       "      <td>0.168452</td>\n",
       "      <td>0.419351</td>\n",
       "      <td>0.229109</td>\n",
       "      <td>0.194836</td>\n",
       "      <td>0.189897</td>\n",
       "      <td>0.189897</td>\n",
       "      <td>0.020587</td>\n",
       "      <td>0.011047</td>\n",
       "      <td>0.008054</td>\n",
       "      <td>0.007714</td>\n",
       "    </tr>\n",
       "    <tr>\n",
       "      <th>min</th>\n",
       "      <td>1.0000</td>\n",
       "      <td>0.000000</td>\n",
       "      <td>0.000000</td>\n",
       "      <td>0.000000</td>\n",
       "      <td>0.000000</td>\n",
       "      <td>0.000000</td>\n",
       "      <td>0.000000</td>\n",
       "      <td>0.000000</td>\n",
       "      <td>0.000000</td>\n",
       "      <td>-0.012000</td>\n",
       "      <td>0.000000</td>\n",
       "      <td>0.025000</td>\n",
       "      <td>0.004000</td>\n",
       "    </tr>\n",
       "    <tr>\n",
       "      <th>25%</th>\n",
       "      <td>608.2500</td>\n",
       "      <td>0.000000</td>\n",
       "      <td>0.000000</td>\n",
       "      <td>0.000000</td>\n",
       "      <td>0.000000</td>\n",
       "      <td>0.000000</td>\n",
       "      <td>0.000000</td>\n",
       "      <td>0.000000</td>\n",
       "      <td>0.000000</td>\n",
       "      <td>0.103000</td>\n",
       "      <td>0.081000</td>\n",
       "      <td>0.050000</td>\n",
       "      <td>0.079000</td>\n",
       "    </tr>\n",
       "    <tr>\n",
       "      <th>50%</th>\n",
       "      <td>1215.5000</td>\n",
       "      <td>0.000000</td>\n",
       "      <td>0.000000</td>\n",
       "      <td>0.000000</td>\n",
       "      <td>0.000000</td>\n",
       "      <td>0.000000</td>\n",
       "      <td>0.000000</td>\n",
       "      <td>0.000000</td>\n",
       "      <td>0.000000</td>\n",
       "      <td>0.108000</td>\n",
       "      <td>0.086000</td>\n",
       "      <td>0.054000</td>\n",
       "      <td>0.079000</td>\n",
       "    </tr>\n",
       "    <tr>\n",
       "      <th>75%</th>\n",
       "      <td>1822.7500</td>\n",
       "      <td>1.000000</td>\n",
       "      <td>1.000000</td>\n",
       "      <td>0.000000</td>\n",
       "      <td>0.000000</td>\n",
       "      <td>0.000000</td>\n",
       "      <td>0.000000</td>\n",
       "      <td>0.000000</td>\n",
       "      <td>0.000000</td>\n",
       "      <td>0.115000</td>\n",
       "      <td>0.086000</td>\n",
       "      <td>0.061000</td>\n",
       "      <td>0.086000</td>\n",
       "    </tr>\n",
       "    <tr>\n",
       "      <th>max</th>\n",
       "      <td>2430.0000</td>\n",
       "      <td>1.000000</td>\n",
       "      <td>1.000000</td>\n",
       "      <td>1.000000</td>\n",
       "      <td>1.000000</td>\n",
       "      <td>1.000000</td>\n",
       "      <td>1.000000</td>\n",
       "      <td>1.000000</td>\n",
       "      <td>1.000000</td>\n",
       "      <td>0.193000</td>\n",
       "      <td>0.111000</td>\n",
       "      <td>0.086000</td>\n",
       "      <td>0.104000</td>\n",
       "    </tr>\n",
       "  </tbody>\n",
       "</table>\n",
       "</div>"
      ],
      "text/plain": [
       "              id           y1           y2           y3           y4  \\\n",
       "count  2430.0000  2430.000000  2430.000000  2430.000000  2430.000000   \n",
       "mean   1215.5000     0.341975     0.401235     0.029218     0.227572   \n",
       "std     701.6249     0.474469     0.490249     0.168452     0.419351   \n",
       "min       1.0000     0.000000     0.000000     0.000000     0.000000   \n",
       "25%     608.2500     0.000000     0.000000     0.000000     0.000000   \n",
       "50%    1215.5000     0.000000     0.000000     0.000000     0.000000   \n",
       "75%    1822.7500     1.000000     1.000000     0.000000     0.000000   \n",
       "max    2430.0000     1.000000     1.000000     1.000000     1.000000   \n",
       "\n",
       "                f1           f2           f3           f4           p1  \\\n",
       "count  2430.000000  2430.000000  2430.000000  2430.000000  2430.000000   \n",
       "mean      0.055556     0.039506     0.037449     0.037449     0.106248   \n",
       "std       0.229109     0.194836     0.189897     0.189897     0.020587   \n",
       "min       0.000000     0.000000     0.000000     0.000000    -0.012000   \n",
       "25%       0.000000     0.000000     0.000000     0.000000     0.103000   \n",
       "50%       0.000000     0.000000     0.000000     0.000000     0.108000   \n",
       "75%       0.000000     0.000000     0.000000     0.000000     0.115000   \n",
       "max       1.000000     1.000000     1.000000     1.000000     0.193000   \n",
       "\n",
       "                p2           p3           p4  \n",
       "count  2430.000000  2430.000000  2430.000000  \n",
       "mean      0.081532     0.053622     0.079507  \n",
       "std       0.011047     0.008054     0.007714  \n",
       "min       0.000000     0.025000     0.004000  \n",
       "25%       0.081000     0.050000     0.079000  \n",
       "50%       0.086000     0.054000     0.079000  \n",
       "75%       0.086000     0.061000     0.086000  \n",
       "max       0.111000     0.086000     0.104000  "
      ]
     },
     "execution_count": 4,
     "metadata": {},
     "output_type": "execute_result"
    }
   ],
   "source": [
    "yogurt.describe()"
   ]
  },
  {
   "cell_type": "markdown",
   "metadata": {},
   "source": [
    "After conducting some research on the dataset, it is shown that the rate at which products y1 through y4 are selected are between 2% and 40%, with 2% being extremely low compared to the other products (23%, 34%). Each product also has a large standard deviation of being selected, likely because the product is either selected (1) or not selected (0). Also, the averages of each product being selected sum to 1, meaning there is no missing data for the y columns in the dataset.\n",
    "\n",
    "The products were featured approximately same proportion of time (between 3.7%-5.6%), with product 1 being featured more than others at 5.6%, but it was not the most selected product. That product is y2. The summed average of featured products does not sum to 1, meaning a product wasn't always featured. The standard deviation are also very large, likely for the same reason as mentioned above (binary). They are slightly higher SD's proportionally to the averages, which is likely because there are much more 0's than 1's in columns due to the fact that there doesn't have to be a product featured. \n",
    "\n",
    "Average prices per ounce range from approximately $0.11 to $0.05. These standard deviations are not nearly as proportionally high as the other columns, likely because the prices are continuous and not binary. Price seems to potentially follow a normal distribution."
   ]
  },
  {
   "cell_type": "markdown",
   "metadata": {},
   "source": [
    "Let the vector of product features include brand dummy variables for yogurts 1-3 (we'll omit a dummy for product 4 to avoid multi-collinearity), a dummy variable to indicate if a yogurt was featured, and a continuous variable for the yogurts' prices:  \n",
    "\n",
    "$$ x_j' = [\\mathbf{1}_{\\text{Yogurt 1}}, \\mathbf{1}_{\\text{Yogurt 2}}, \\mathbf{1}_{\\text{Yogurt 3}}, X_f, X_p] $$\n",
    "\n",
    "\n",
    "The \"hard part\" of the MNL likelihood function is organizing the data, as we need to keep track of 3 dimensions (consumer $i$, covariate $k$, and product $j$) instead of the typical 2 dimensions for cross-sectional regression models (consumer $i$ and covariate $k$). \n",
    "\n",
    "What we would like to do is reorganize the data from a \"wide\" shape with $n$ rows and multiple columns for each covariate, to a \"long\" shape with $n \\times J$ rows and a single column for each covariate.  As part of this re-organization, we'll add binary variables to indicate the first 3 products; the variables for featured and price are included in the dataset and simply need to be \"pivoted\" or \"melted\" from wide to long.  \n",
    "\n",
    "_todo: reshape and prep the data_"
   ]
  },
  {
   "cell_type": "code",
   "execution_count": 5,
   "metadata": {},
   "outputs": [],
   "source": [
    "# Melting and restructuring the data in one step\n",
    "long_data = yogurt.melt(id_vars='id', \n",
    "                             value_vars=['y1', 'y2', 'y3', 'y4', 'f1', 'f2', 'f3', 'f4', 'p1', 'p2', 'p3', 'p4'],\n",
    "                             var_name='variable', \n",
    "                             value_name='value')\n",
    "\n",
    "# Adding separate columns for type and product number directly\n",
    "long_data['type'] = long_data['variable'].str[0]\n",
    "long_data['product_num'] = long_data['variable'].str[1].astype(int)\n",
    "\n",
    "# Pivoting to have separate columns for each data type (purchase, featured, price)\n",
    "long_data = long_data.pivot_table(index=['id', 'product_num'], columns='type', values='value', aggfunc='first').reset_index()\n",
    "\n",
    "# Renaming the columns for clarity\n",
    "long_data.columns = ['id', 'product_num', 'featured', 'price', 'purchase']\n",
    "\n",
    "# Creating binary indicators for the first three products\n",
    "long_data['yogurt_1'] = (long_data['product_num'] == 1).astype(int)\n",
    "long_data['yogurt_2'] = (long_data['product_num'] == 2).astype(int)\n",
    "long_data['yogurt_3'] = (long_data['product_num'] == 3).astype(int)\n"
   ]
  },
  {
   "cell_type": "code",
   "execution_count": 6,
   "metadata": {},
   "outputs": [
    {
     "data": {
      "text/html": [
       "<div>\n",
       "<style scoped>\n",
       "    .dataframe tbody tr th:only-of-type {\n",
       "        vertical-align: middle;\n",
       "    }\n",
       "\n",
       "    .dataframe tbody tr th {\n",
       "        vertical-align: top;\n",
       "    }\n",
       "\n",
       "    .dataframe thead th {\n",
       "        text-align: right;\n",
       "    }\n",
       "</style>\n",
       "<table border=\"1\" class=\"dataframe\">\n",
       "  <thead>\n",
       "    <tr style=\"text-align: right;\">\n",
       "      <th></th>\n",
       "      <th>id</th>\n",
       "      <th>product_num</th>\n",
       "      <th>featured</th>\n",
       "      <th>price</th>\n",
       "      <th>purchase</th>\n",
       "      <th>yogurt_1</th>\n",
       "      <th>yogurt_2</th>\n",
       "      <th>yogurt_3</th>\n",
       "    </tr>\n",
       "  </thead>\n",
       "  <tbody>\n",
       "    <tr>\n",
       "      <th>0</th>\n",
       "      <td>1</td>\n",
       "      <td>1</td>\n",
       "      <td>0.0</td>\n",
       "      <td>0.108</td>\n",
       "      <td>0.0</td>\n",
       "      <td>1</td>\n",
       "      <td>0</td>\n",
       "      <td>0</td>\n",
       "    </tr>\n",
       "    <tr>\n",
       "      <th>1</th>\n",
       "      <td>1</td>\n",
       "      <td>2</td>\n",
       "      <td>0.0</td>\n",
       "      <td>0.081</td>\n",
       "      <td>0.0</td>\n",
       "      <td>0</td>\n",
       "      <td>1</td>\n",
       "      <td>0</td>\n",
       "    </tr>\n",
       "    <tr>\n",
       "      <th>2</th>\n",
       "      <td>1</td>\n",
       "      <td>3</td>\n",
       "      <td>0.0</td>\n",
       "      <td>0.061</td>\n",
       "      <td>0.0</td>\n",
       "      <td>0</td>\n",
       "      <td>0</td>\n",
       "      <td>1</td>\n",
       "    </tr>\n",
       "    <tr>\n",
       "      <th>3</th>\n",
       "      <td>1</td>\n",
       "      <td>4</td>\n",
       "      <td>0.0</td>\n",
       "      <td>0.079</td>\n",
       "      <td>1.0</td>\n",
       "      <td>0</td>\n",
       "      <td>0</td>\n",
       "      <td>0</td>\n",
       "    </tr>\n",
       "    <tr>\n",
       "      <th>4</th>\n",
       "      <td>2</td>\n",
       "      <td>1</td>\n",
       "      <td>0.0</td>\n",
       "      <td>0.108</td>\n",
       "      <td>0.0</td>\n",
       "      <td>1</td>\n",
       "      <td>0</td>\n",
       "      <td>0</td>\n",
       "    </tr>\n",
       "  </tbody>\n",
       "</table>\n",
       "</div>"
      ],
      "text/plain": [
       "   id  product_num  featured  price  purchase  yogurt_1  yogurt_2  yogurt_3\n",
       "0   1            1       0.0  0.108       0.0         1         0         0\n",
       "1   1            2       0.0  0.081       0.0         0         1         0\n",
       "2   1            3       0.0  0.061       0.0         0         0         1\n",
       "3   1            4       0.0  0.079       1.0         0         0         0\n",
       "4   2            1       0.0  0.108       0.0         1         0         0"
      ]
     },
     "execution_count": 6,
     "metadata": {},
     "output_type": "execute_result"
    }
   ],
   "source": [
    "long_data.head()"
   ]
  },
  {
   "cell_type": "markdown",
   "metadata": {},
   "source": [
    "_todo: Code up the log-likelihood function._"
   ]
  },
  {
   "cell_type": "code",
   "execution_count": 102,
   "metadata": {},
   "outputs": [],
   "source": [
    "from scipy.optimize import minimize\n",
    "from sklearn.preprocessing import StandardScaler\n",
    "import numpy as np\n",
    "\n",
    "# Define the logistic regression likelihood function\n",
    "def logistic_neg_log_likelihood(beta, X, y):\n",
    " \n",
    "    # Linear combination: X * beta\n",
    "    z = np.dot(X, beta)\n",
    "    # Logistic function application\n",
    "    probability = 1 / (1 + np.exp(-z))\n",
    "    # Log-likelihood\n",
    "    log_likelihood = np.sum(y * np.log(probability) + (1 - y) * np.log(1 - probability))\n",
    "    # Return negative log-likelihood\n",
    "    return -log_likelihood"
   ]
  },
  {
   "cell_type": "markdown",
   "metadata": {},
   "source": [
    "_todo: Use `optim()` in R or `optimize()` in Python to find the MLEs for the 5 parameters ($\\beta_1, \\beta_2, \\beta_3, \\beta_f, \\beta_p$).  (Hint: you should find 2 positive and 1 negative product intercepts, a small positive coefficient estimate for featured, and a large negative coefficient estimate for price.)_"
   ]
  },
  {
   "cell_type": "code",
   "execution_count": 103,
   "metadata": {},
   "outputs": [
    {
     "data": {
      "text/plain": [
       "  message: Desired error not necessarily achieved due to precision loss.\n",
       "  success: False\n",
       "   status: 2\n",
       "      fun: 4645.881282128891\n",
       "        x: [-1.468e+00  9.508e-02 -7.251e-01  6.140e-01  3.903e-01\n",
       "            -1.360e+00]\n",
       "      nit: 19\n",
       "      jac: [ 6.104e-05  6.104e-05  0.000e+00  0.000e+00  0.000e+00\n",
       "             6.104e-05]\n",
       " hess_inv: [[ 2.432e-05 -1.092e-05 ...  7.449e-06 -3.793e-06]\n",
       "            [-1.092e-05  5.426e-04 ... -2.932e-04  1.295e-05]\n",
       "            ...\n",
       "            [ 7.449e-06 -2.932e-04 ...  7.850e-04 -5.431e-04]\n",
       "            [-3.793e-06  1.295e-05 ... -5.431e-04  1.323e-03]]\n",
       "     nfev: 196\n",
       "     njev: 28"
      ]
     },
     "execution_count": 103,
     "metadata": {},
     "output_type": "execute_result"
    }
   ],
   "source": [
    "# Standardize features\n",
    "scaler = StandardScaler()\n",
    "features_scaled = scaler.fit_transform(long_data[['featured', 'price', 'yogurt_1', 'yogurt_2', 'yogurt_3']])\n",
    "\n",
    "# Update the feature matrix X to include the scaled features and an intercept\n",
    "X_logistic = np.hstack((np.ones((long_data.shape[0], 1)), features_scaled))  \n",
    "y_logistic = long_data['purchase'].astype(int).values\n",
    "\n",
    "# Initial beta estimates\n",
    "initial_beta_logistic = np.zeros(X_logistic.shape[1])\n",
    "\n",
    "# Running the optimization for logistic regression\n",
    "result_logistic = minimize(logistic_neg_log_likelihood, initial_beta_logistic, args=(X_logistic, y_logistic), method='BFGS')\n",
    "result_logistic"
   ]
  },
  {
   "cell_type": "code",
   "execution_count": 104,
   "metadata": {},
   "outputs": [
    {
     "data": {
      "text/plain": [
       "array([-1.46768525,  0.09508497, -0.72514485,  0.61395611,  0.39025875,\n",
       "       -1.35989235])"
      ]
     },
     "execution_count": 104,
     "metadata": {},
     "output_type": "execute_result"
    }
   ],
   "source": [
    "coefficients = result_logistic.x\n",
    "\n",
    "coefficients"
   ]
  },
  {
   "cell_type": "markdown",
   "metadata": {},
   "source": [
    "_todo: interpret the 3 product intercepts (which yogurt is most preferred?)._"
   ]
  },
  {
   "cell_type": "markdown",
   "metadata": {},
   "source": [
    "The most preferred yogurt is Yogurt #1, which has a coefficient or beta of 0.614. The next highest is Yogurt #2, which has a coefficient of 0.390. Yogurt #4 which is not featured is the base case, so it has a coefficient of 0. The least preferred yogurt is Yogurt #3, which has a coefficient of -1.360."
   ]
  },
  {
   "cell_type": "markdown",
   "metadata": {},
   "source": [
    "_todo: use the estimated price coefficient as a dollar-per-util conversion factor. Use this conversion factor to calculate the dollar benefit between the most-preferred yogurt (the one with the highest intercept) and the least preferred yogurt (the one with the lowest intercept). This is a per-unit monetary measure of brand value._"
   ]
  },
  {
   "cell_type": "code",
   "execution_count": 136,
   "metadata": {},
   "outputs": [
    {
     "data": {
      "text/plain": [
       "2.722005784519816"
      ]
     },
     "execution_count": 136,
     "metadata": {},
     "output_type": "execute_result"
    }
   ],
   "source": [
    "dollar_benefit = (coefficients[3] - coefficients[5]) /abs(coefficients[2])\n",
    "\n",
    "dollar_benefit"
   ]
  },
  {
   "cell_type": "markdown",
   "metadata": {},
   "source": [
    "The dollar benefit between the most-preferred yogurt and the least preferred yogurt is $1.43. This means that the most preferred yogurt is worth $1.43 more than the least preferred yogurt."
   ]
  },
  {
   "cell_type": "markdown",
   "metadata": {},
   "source": [
    "One benefit of the MNL model is that we can simulate counterfactuals (eg, what if the price of yogurt 1 was $0.10/oz instead of $0.08/oz).\n",
    "\n",
    "_todo: calculate the market shares in the market at the time the data were collected.  Then, increase the price of yogurt 1 by $0.10 and use your fitted model to predict p(y|x) for each consumer and each product (this should be a matrix of $N \\times 4$ estimated choice probabilities.  Take the column averages to get the new, expected market shares that result from the $0.10 price increase to yogurt 1.  Do the yogurt 1 market shares decrease?_"
   ]
  },
  {
   "cell_type": "code",
   "execution_count": 106,
   "metadata": {},
   "outputs": [
    {
     "data": {
      "text/plain": [
       "(0.3419753086419753,\n",
       " 0.4012345679012346,\n",
       " 0.029218106995884775,\n",
       " 0.22757201646090536)"
      ]
     },
     "execution_count": 106,
     "metadata": {},
     "output_type": "execute_result"
    }
   ],
   "source": [
    "y1 = yogurt['y1'].sum()\n",
    "y2 = yogurt['y2'].sum()\n",
    "y3 = yogurt['y3'].sum()\n",
    "y4 = yogurt['y4'].sum()\n",
    "\n",
    "y1_share = y1 / (y1 + y2 + y3 + y4)\n",
    "y2_share = y2 / (y1 + y2 + y3 + y4)\n",
    "y3_share = y3 / (y1 + y2 + y3 + y4)\n",
    "y4_share = y4 / (y1 + y2 + y3 + y4)\n",
    "\n",
    "y1_share, y2_share, y3_share, y4_share"
   ]
  },
  {
   "cell_type": "code",
   "execution_count": 107,
   "metadata": {},
   "outputs": [
    {
     "data": {
      "text/html": [
       "<div>\n",
       "<style scoped>\n",
       "    .dataframe tbody tr th:only-of-type {\n",
       "        vertical-align: middle;\n",
       "    }\n",
       "\n",
       "    .dataframe tbody tr th {\n",
       "        vertical-align: top;\n",
       "    }\n",
       "\n",
       "    .dataframe thead th {\n",
       "        text-align: right;\n",
       "    }\n",
       "</style>\n",
       "<table border=\"1\" class=\"dataframe\">\n",
       "  <thead>\n",
       "    <tr style=\"text-align: right;\">\n",
       "      <th></th>\n",
       "      <th>id</th>\n",
       "      <th>y1</th>\n",
       "      <th>y2</th>\n",
       "      <th>y3</th>\n",
       "      <th>y4</th>\n",
       "      <th>f1</th>\n",
       "      <th>f2</th>\n",
       "      <th>f3</th>\n",
       "      <th>f4</th>\n",
       "      <th>p1</th>\n",
       "      <th>p2</th>\n",
       "      <th>p3</th>\n",
       "      <th>p4</th>\n",
       "      <th>yogurt_type</th>\n",
       "    </tr>\n",
       "  </thead>\n",
       "  <tbody>\n",
       "    <tr>\n",
       "      <th>0</th>\n",
       "      <td>1</td>\n",
       "      <td>0</td>\n",
       "      <td>0</td>\n",
       "      <td>0</td>\n",
       "      <td>1</td>\n",
       "      <td>0</td>\n",
       "      <td>0</td>\n",
       "      <td>0</td>\n",
       "      <td>0</td>\n",
       "      <td>0.108</td>\n",
       "      <td>0.081</td>\n",
       "      <td>0.061</td>\n",
       "      <td>0.079</td>\n",
       "      <td>4</td>\n",
       "    </tr>\n",
       "    <tr>\n",
       "      <th>1</th>\n",
       "      <td>2</td>\n",
       "      <td>0</td>\n",
       "      <td>1</td>\n",
       "      <td>0</td>\n",
       "      <td>0</td>\n",
       "      <td>0</td>\n",
       "      <td>0</td>\n",
       "      <td>0</td>\n",
       "      <td>0</td>\n",
       "      <td>0.108</td>\n",
       "      <td>0.098</td>\n",
       "      <td>0.064</td>\n",
       "      <td>0.075</td>\n",
       "      <td>2</td>\n",
       "    </tr>\n",
       "    <tr>\n",
       "      <th>2</th>\n",
       "      <td>3</td>\n",
       "      <td>0</td>\n",
       "      <td>1</td>\n",
       "      <td>0</td>\n",
       "      <td>0</td>\n",
       "      <td>0</td>\n",
       "      <td>0</td>\n",
       "      <td>0</td>\n",
       "      <td>0</td>\n",
       "      <td>0.108</td>\n",
       "      <td>0.098</td>\n",
       "      <td>0.061</td>\n",
       "      <td>0.086</td>\n",
       "      <td>2</td>\n",
       "    </tr>\n",
       "    <tr>\n",
       "      <th>3</th>\n",
       "      <td>4</td>\n",
       "      <td>0</td>\n",
       "      <td>1</td>\n",
       "      <td>0</td>\n",
       "      <td>0</td>\n",
       "      <td>0</td>\n",
       "      <td>0</td>\n",
       "      <td>0</td>\n",
       "      <td>0</td>\n",
       "      <td>0.108</td>\n",
       "      <td>0.098</td>\n",
       "      <td>0.061</td>\n",
       "      <td>0.086</td>\n",
       "      <td>2</td>\n",
       "    </tr>\n",
       "    <tr>\n",
       "      <th>4</th>\n",
       "      <td>5</td>\n",
       "      <td>0</td>\n",
       "      <td>1</td>\n",
       "      <td>0</td>\n",
       "      <td>0</td>\n",
       "      <td>0</td>\n",
       "      <td>0</td>\n",
       "      <td>0</td>\n",
       "      <td>0</td>\n",
       "      <td>0.125</td>\n",
       "      <td>0.098</td>\n",
       "      <td>0.049</td>\n",
       "      <td>0.079</td>\n",
       "      <td>2</td>\n",
       "    </tr>\n",
       "  </tbody>\n",
       "</table>\n",
       "</div>"
      ],
      "text/plain": [
       "   id  y1  y2  y3  y4  f1  f2  f3  f4     p1     p2     p3     p4  yogurt_type\n",
       "0   1   0   0   0   1   0   0   0   0  0.108  0.081  0.061  0.079            4\n",
       "1   2   0   1   0   0   0   0   0   0  0.108  0.098  0.064  0.075            2\n",
       "2   3   0   1   0   0   0   0   0   0  0.108  0.098  0.061  0.086            2\n",
       "3   4   0   1   0   0   0   0   0   0  0.108  0.098  0.061  0.086            2\n",
       "4   5   0   1   0   0   0   0   0   0  0.125  0.098  0.049  0.079            2"
      ]
     },
     "execution_count": 107,
     "metadata": {},
     "output_type": "execute_result"
    }
   ],
   "source": [
    "# consolidate columns y1 to y4 into a single column\n",
    "\n",
    "yogurt['yogurt_type'] = yogurt[['y1', 'y2', 'y3', 'y4']].idxmax(axis=1).str[1].astype(int)\n"
   ]
  },
  {
   "cell_type": "code",
   "execution_count": 108,
   "metadata": {},
   "outputs": [
    {
     "data": {
      "text/plain": [
       "array([0.34197574, 0.40123432, 0.02921825, 0.22757169])"
      ]
     },
     "execution_count": 108,
     "metadata": {},
     "output_type": "execute_result"
    }
   ],
   "source": [
    "from sklearn.preprocessing import StandardScaler\n",
    "from sklearn.linear_model import LogisticRegression\n",
    "import numpy as np\n",
    "import pandas as pd\n",
    "\n",
    "# Assuming 'long_data' is your DataFrame and it's already loaded\n",
    "# The 'purchase' column should be categorical with each category representing a different type of yogurt\n",
    "\n",
    "# Prepare the features and target\n",
    "X = yogurt[['f1', 'f2', 'f3', 'f4', 'p1', 'p2', 'p3', 'p4']].values\n",
    "y = yogurt['yogurt_type'].astype(int).values  # Ensure y is an integer type representing different categories\n",
    "\n",
    "\n",
    "# Fit the multinomial logistic regression model\n",
    "model = LogisticRegression(multi_class='multinomial', solver='lbfgs', max_iter=1000)\n",
    "model.fit(X, y)\n",
    "\n",
    "#  Predict probabilities\n",
    "probabilities = model.predict_proba(X)\n",
    "\n",
    "# Calculate original market shares\n",
    "market_shares_original = probabilities.mean(axis=0)\n",
    "\n",
    "market_shares_original"
   ]
  },
  {
   "cell_type": "code",
   "execution_count": 109,
   "metadata": {},
   "outputs": [
    {
     "name": "stdout",
     "output_type": "stream",
     "text": [
      "Original Market Shares: [0.34197574 0.40123432 0.02921825 0.22757169]\n",
      "New Market Shares After Price Increase: [0.19483994 0.50127048 0.02768742 0.27620216]\n"
     ]
    }
   ],
   "source": [
    "yogurt['p1_new'] = yogurt['p1'] + 0.10\n",
    "\n",
    "X_new = yogurt[['f1', 'f2', 'f3', 'f4', 'p1_new', 'p2', 'p3', 'p4']].values\n",
    "\n",
    "# Predict new probabilities with the adjusted prices\n",
    "probabilities_new = model.predict_proba(X_new)\n",
    "\n",
    "# Calculate new market shares\n",
    "market_shares_new = probabilities_new.mean(axis=0)\n",
    "\n",
    "# Output the results\n",
    "print(\"Original Market Shares:\", market_shares_original)\n",
    "print(\"New Market Shares After Price Increase:\", market_shares_new)\n"
   ]
  },
  {
   "cell_type": "markdown",
   "metadata": {},
   "source": [
    "Market shares do decrease for yogurt 1 by nearly 15% when price is increased by $0.10."
   ]
  },
  {
   "cell_type": "markdown",
   "metadata": {},
   "source": [
    "_todo: describe the data a bit. How many respondents took the conjoint survey?  How many choice tasks did each respondent complete?  How many alternatives were presented on each choice task? For each alternative._\n"
   ]
  },
  {
   "cell_type": "code",
   "execution_count": 126,
   "metadata": {},
   "outputs": [
    {
     "data": {
      "text/html": [
       "<div>\n",
       "<style scoped>\n",
       "    .dataframe tbody tr th:only-of-type {\n",
       "        vertical-align: middle;\n",
       "    }\n",
       "\n",
       "    .dataframe tbody tr th {\n",
       "        vertical-align: top;\n",
       "    }\n",
       "\n",
       "    .dataframe thead th {\n",
       "        text-align: right;\n",
       "    }\n",
       "</style>\n",
       "<table border=\"1\" class=\"dataframe\">\n",
       "  <thead>\n",
       "    <tr style=\"text-align: right;\">\n",
       "      <th></th>\n",
       "      <th>resp.id</th>\n",
       "      <th>ques</th>\n",
       "      <th>alt</th>\n",
       "      <th>carpool</th>\n",
       "      <th>seat</th>\n",
       "      <th>cargo</th>\n",
       "      <th>eng</th>\n",
       "      <th>price</th>\n",
       "      <th>choice</th>\n",
       "    </tr>\n",
       "  </thead>\n",
       "  <tbody>\n",
       "    <tr>\n",
       "      <th>0</th>\n",
       "      <td>1</td>\n",
       "      <td>1</td>\n",
       "      <td>1</td>\n",
       "      <td>yes</td>\n",
       "      <td>6</td>\n",
       "      <td>2ft</td>\n",
       "      <td>gas</td>\n",
       "      <td>35</td>\n",
       "      <td>0</td>\n",
       "    </tr>\n",
       "    <tr>\n",
       "      <th>1</th>\n",
       "      <td>1</td>\n",
       "      <td>1</td>\n",
       "      <td>2</td>\n",
       "      <td>yes</td>\n",
       "      <td>8</td>\n",
       "      <td>3ft</td>\n",
       "      <td>hyb</td>\n",
       "      <td>30</td>\n",
       "      <td>0</td>\n",
       "    </tr>\n",
       "    <tr>\n",
       "      <th>2</th>\n",
       "      <td>1</td>\n",
       "      <td>1</td>\n",
       "      <td>3</td>\n",
       "      <td>yes</td>\n",
       "      <td>6</td>\n",
       "      <td>3ft</td>\n",
       "      <td>gas</td>\n",
       "      <td>30</td>\n",
       "      <td>1</td>\n",
       "    </tr>\n",
       "    <tr>\n",
       "      <th>3</th>\n",
       "      <td>1</td>\n",
       "      <td>2</td>\n",
       "      <td>1</td>\n",
       "      <td>yes</td>\n",
       "      <td>6</td>\n",
       "      <td>2ft</td>\n",
       "      <td>gas</td>\n",
       "      <td>30</td>\n",
       "      <td>0</td>\n",
       "    </tr>\n",
       "    <tr>\n",
       "      <th>4</th>\n",
       "      <td>1</td>\n",
       "      <td>2</td>\n",
       "      <td>2</td>\n",
       "      <td>yes</td>\n",
       "      <td>7</td>\n",
       "      <td>3ft</td>\n",
       "      <td>gas</td>\n",
       "      <td>35</td>\n",
       "      <td>1</td>\n",
       "    </tr>\n",
       "    <tr>\n",
       "      <th>...</th>\n",
       "      <td>...</td>\n",
       "      <td>...</td>\n",
       "      <td>...</td>\n",
       "      <td>...</td>\n",
       "      <td>...</td>\n",
       "      <td>...</td>\n",
       "      <td>...</td>\n",
       "      <td>...</td>\n",
       "      <td>...</td>\n",
       "    </tr>\n",
       "    <tr>\n",
       "      <th>8995</th>\n",
       "      <td>200</td>\n",
       "      <td>14</td>\n",
       "      <td>2</td>\n",
       "      <td>no</td>\n",
       "      <td>7</td>\n",
       "      <td>3ft</td>\n",
       "      <td>gas</td>\n",
       "      <td>35</td>\n",
       "      <td>1</td>\n",
       "    </tr>\n",
       "    <tr>\n",
       "      <th>8996</th>\n",
       "      <td>200</td>\n",
       "      <td>14</td>\n",
       "      <td>3</td>\n",
       "      <td>no</td>\n",
       "      <td>7</td>\n",
       "      <td>3ft</td>\n",
       "      <td>hyb</td>\n",
       "      <td>35</td>\n",
       "      <td>0</td>\n",
       "    </tr>\n",
       "    <tr>\n",
       "      <th>8997</th>\n",
       "      <td>200</td>\n",
       "      <td>15</td>\n",
       "      <td>1</td>\n",
       "      <td>no</td>\n",
       "      <td>7</td>\n",
       "      <td>2ft</td>\n",
       "      <td>gas</td>\n",
       "      <td>35</td>\n",
       "      <td>0</td>\n",
       "    </tr>\n",
       "    <tr>\n",
       "      <th>8998</th>\n",
       "      <td>200</td>\n",
       "      <td>15</td>\n",
       "      <td>2</td>\n",
       "      <td>no</td>\n",
       "      <td>8</td>\n",
       "      <td>3ft</td>\n",
       "      <td>elec</td>\n",
       "      <td>40</td>\n",
       "      <td>0</td>\n",
       "    </tr>\n",
       "    <tr>\n",
       "      <th>8999</th>\n",
       "      <td>200</td>\n",
       "      <td>15</td>\n",
       "      <td>3</td>\n",
       "      <td>no</td>\n",
       "      <td>6</td>\n",
       "      <td>3ft</td>\n",
       "      <td>gas</td>\n",
       "      <td>35</td>\n",
       "      <td>1</td>\n",
       "    </tr>\n",
       "  </tbody>\n",
       "</table>\n",
       "<p>9000 rows × 9 columns</p>\n",
       "</div>"
      ],
      "text/plain": [
       "      resp.id  ques  alt carpool  seat cargo   eng  price  choice\n",
       "0           1     1    1     yes     6   2ft   gas     35       0\n",
       "1           1     1    2     yes     8   3ft   hyb     30       0\n",
       "2           1     1    3     yes     6   3ft   gas     30       1\n",
       "3           1     2    1     yes     6   2ft   gas     30       0\n",
       "4           1     2    2     yes     7   3ft   gas     35       1\n",
       "...       ...   ...  ...     ...   ...   ...   ...    ...     ...\n",
       "8995      200    14    2      no     7   3ft   gas     35       1\n",
       "8996      200    14    3      no     7   3ft   hyb     35       0\n",
       "8997      200    15    1      no     7   2ft   gas     35       0\n",
       "8998      200    15    2      no     8   3ft  elec     40       0\n",
       "8999      200    15    3      no     6   3ft   gas     35       1\n",
       "\n",
       "[9000 rows x 9 columns]"
      ]
     },
     "execution_count": 126,
     "metadata": {},
     "output_type": "execute_result"
    }
   ],
   "source": [
    "conjoint = pd.read_csv('conjoint.csv')\n",
    "\n",
    "conjoint"
   ]
  },
  {
   "cell_type": "code",
   "execution_count": 111,
   "metadata": {},
   "outputs": [
    {
     "data": {
      "text/plain": [
       "200"
      ]
     },
     "execution_count": 111,
     "metadata": {},
     "output_type": "execute_result"
    }
   ],
   "source": [
    "# number of unique respondents\n",
    "\n",
    "conjoint['resp.id'].nunique()"
   ]
  },
  {
   "cell_type": "code",
   "execution_count": 112,
   "metadata": {},
   "outputs": [
    {
     "data": {
      "text/plain": [
       "15"
      ]
     },
     "execution_count": 112,
     "metadata": {},
     "output_type": "execute_result"
    }
   ],
   "source": [
    "# number of choice tasks\n",
    "\n",
    "conjoint[conjoint['resp.id'] == 1]['ques'].nunique()"
   ]
  },
  {
   "cell_type": "code",
   "execution_count": 113,
   "metadata": {},
   "outputs": [
    {
     "data": {
      "text/plain": [
       "3"
      ]
     },
     "execution_count": 113,
     "metadata": {},
     "output_type": "execute_result"
    }
   ],
   "source": [
    "# number of alternatives\n",
    "\n",
    "conjoint['alt'].nunique()"
   ]
  },
  {
   "cell_type": "markdown",
   "metadata": {},
   "source": [
    "The data within the conjoint dataset is in long format, meaning it is organized in a way that each row represents a single observation. The data is organized by respondent, choice task, and alternative. There are 200 respondents who took the conjoint survey, and each respondent completed 15 choice tasks. Each choice task presented 3 alternatives to the respondent. Each alternative is represented by a set of attributes, such as brand, price, and feature."
   ]
  },
  {
   "cell_type": "markdown",
   "metadata": {},
   "source": [
    "_todo: estimate a MNL model omitting the following levels to avoide multicollinearity (6 seats, 2ft cargo, and gas engine). Include price as a continuous variable. Show a table of coefficients and standard errors.  You may use your own likelihood function from above, or you may use a function from a package/library to perform the estimation._"
   ]
  },
  {
   "cell_type": "code",
   "execution_count": 127,
   "metadata": {},
   "outputs": [],
   "source": [
    "conjoint = pd.get_dummies(conjoint, columns=['seat', 'cargo', 'eng'], drop_first=False)"
   ]
  },
  {
   "cell_type": "code",
   "execution_count": 129,
   "metadata": {},
   "outputs": [],
   "source": [
    "conjoint.drop(['seat_6', 'cargo_2ft', 'eng_gas'], axis=1, inplace=True)"
   ]
  },
  {
   "cell_type": "code",
   "execution_count": 130,
   "metadata": {},
   "outputs": [
    {
     "data": {
      "text/plain": [
       "array([[-0.07952075, -0.26151586, -0.14596134,  0.21885267, -0.37897658,\n",
       "        -0.71594544]])"
      ]
     },
     "execution_count": 130,
     "metadata": {},
     "output_type": "execute_result"
    }
   ],
   "source": [
    "X = conjoint[['price', 'seat_7', 'seat_8', 'cargo_3ft', 'eng_hyb', 'eng_elec']]  # predictors\n",
    "y = conjoint['choice']  # response variable\n",
    "\n",
    "\n",
    "# Fit the multinomial logistic regression model\n",
    "model = LogisticRegression(multi_class='multinomial', solver='lbfgs', max_iter=1000)\n",
    "model.fit(X, y)\n",
    "\n",
    "model.coef_\n"
   ]
  },
  {
   "cell_type": "markdown",
   "metadata": {},
   "source": [
    "_todo: Interpret the coefficients. Which features are more preferred?_"
   ]
  },
  {
   "cell_type": "markdown",
   "metadata": {},
   "source": [
    "In terms of price, a cheaper price is more preferred as it has a negative coefficient. \n",
    "\n",
    "For seats, both 7 and 8 seats have negative coefficients, meaning that seat 6 is the most preferred. \n",
    "\n",
    "For cargo space, 3 ft is a positive coefficient, meaning its the most preferred.\n",
    "\n",
    "Finally, for engine type, both electric and hybrid have negative coefficients, meaning that gas is the most preferred."
   ]
  },
  {
   "cell_type": "markdown",
   "metadata": {},
   "source": [
    "_todo: Use the price coefficient as a dollar-per-util conversion factor. What is the dollar value of 3ft of cargo space as compared to 2ft of cargo space?_"
   ]
  },
  {
   "cell_type": "code",
   "execution_count": 143,
   "metadata": {},
   "outputs": [
    {
     "data": {
      "text/plain": [
       "2752.15"
      ]
     },
     "execution_count": 143,
     "metadata": {},
     "output_type": "execute_result"
    }
   ],
   "source": [
    "cargo_3ft = model.coef_[0][3]\n",
    "price = model.coef_[0][0]\n",
    "\n",
    "dollar_value = (cargo_3ft / abs(price)) * 1000\n",
    "\n",
    "dollar_value.round(2)"
   ]
  },
  {
   "cell_type": "markdown",
   "metadata": {},
   "source": [
    "_todo: assume the market consists of the following 6 minivans. Predict the market shares of each minivan in the market._"
   ]
  },
  {
   "cell_type": "code",
   "execution_count": 149,
   "metadata": {},
   "outputs": [
    {
     "data": {
      "text/html": [
       "<div>\n",
       "<style scoped>\n",
       "    .dataframe tbody tr th:only-of-type {\n",
       "        vertical-align: middle;\n",
       "    }\n",
       "\n",
       "    .dataframe tbody tr th {\n",
       "        vertical-align: top;\n",
       "    }\n",
       "\n",
       "    .dataframe thead th {\n",
       "        text-align: right;\n",
       "    }\n",
       "</style>\n",
       "<table border=\"1\" class=\"dataframe\">\n",
       "  <thead>\n",
       "    <tr style=\"text-align: right;\">\n",
       "      <th></th>\n",
       "      <th>minivan</th>\n",
       "      <th>seat</th>\n",
       "      <th>cargo</th>\n",
       "      <th>eng</th>\n",
       "      <th>price</th>\n",
       "    </tr>\n",
       "  </thead>\n",
       "  <tbody>\n",
       "    <tr>\n",
       "      <th>0</th>\n",
       "      <td>A</td>\n",
       "      <td>7</td>\n",
       "      <td>2</td>\n",
       "      <td>hyb</td>\n",
       "      <td>30</td>\n",
       "    </tr>\n",
       "    <tr>\n",
       "      <th>1</th>\n",
       "      <td>B</td>\n",
       "      <td>6</td>\n",
       "      <td>2</td>\n",
       "      <td>gas</td>\n",
       "      <td>30</td>\n",
       "    </tr>\n",
       "    <tr>\n",
       "      <th>2</th>\n",
       "      <td>C</td>\n",
       "      <td>8</td>\n",
       "      <td>2</td>\n",
       "      <td>gas</td>\n",
       "      <td>30</td>\n",
       "    </tr>\n",
       "    <tr>\n",
       "      <th>3</th>\n",
       "      <td>D</td>\n",
       "      <td>7</td>\n",
       "      <td>3</td>\n",
       "      <td>gas</td>\n",
       "      <td>40</td>\n",
       "    </tr>\n",
       "    <tr>\n",
       "      <th>4</th>\n",
       "      <td>E</td>\n",
       "      <td>6</td>\n",
       "      <td>2</td>\n",
       "      <td>elec</td>\n",
       "      <td>40</td>\n",
       "    </tr>\n",
       "    <tr>\n",
       "      <th>5</th>\n",
       "      <td>F</td>\n",
       "      <td>7</td>\n",
       "      <td>2</td>\n",
       "      <td>hyb</td>\n",
       "      <td>35</td>\n",
       "    </tr>\n",
       "  </tbody>\n",
       "</table>\n",
       "</div>"
      ],
      "text/plain": [
       "  minivan  seat  cargo   eng  price\n",
       "0       A     7      2   hyb     30\n",
       "1       B     6      2   gas     30\n",
       "2       C     8      2   gas     30\n",
       "3       D     7      3   gas     40\n",
       "4       E     6      2  elec     40\n",
       "5       F     7      2   hyb     35"
      ]
     },
     "execution_count": 149,
     "metadata": {},
     "output_type": "execute_result"
    }
   ],
   "source": [
    "data = {\n",
    "    \"minivan\": ['A', 'B', 'C', 'D', 'E', 'F'],\n",
    "    \"seat\": [7, 6, 8, 7, 6, 7],\n",
    "    \"cargo\": [2, 2, 2, 3, 2, 2],\n",
    "    \"eng\": ['hyb', 'gas', 'gas', 'gas', 'elec', 'hyb'],\n",
    "    \"price\": [30, 30, 30, 40, 40, 35]\n",
    "}\n",
    "\n",
    "minivans = pd.DataFrame(data)\n",
    "\n",
    "\n",
    "minivans\n"
   ]
  },
  {
   "cell_type": "code",
   "execution_count": 150,
   "metadata": {},
   "outputs": [],
   "source": [
    "minivans = pd.get_dummies(minivans, columns=['seat', 'cargo', 'eng'], drop_first=False)"
   ]
  },
  {
   "cell_type": "code",
   "execution_count": 151,
   "metadata": {},
   "outputs": [],
   "source": [
    "minivans.drop(['seat_6', 'cargo_2', 'eng_gas'], axis=1, inplace=True)"
   ]
  },
  {
   "cell_type": "code",
   "execution_count": 153,
   "metadata": {},
   "outputs": [],
   "source": [
    "# rename cargo_3 to cargo_3ft\n",
    "\n",
    "minivans.rename(columns={'cargo_3': 'cargo_3ft'}, inplace=True)"
   ]
  },
  {
   "cell_type": "code",
   "execution_count": 157,
   "metadata": {},
   "outputs": [
    {
     "data": {
      "text/plain": [
       "array([0.37160976, 0.68041243, 0.61390225, 0.28494289, 0.09392392,\n",
       "       0.21073102])"
      ]
     },
     "execution_count": 157,
     "metadata": {},
     "output_type": "execute_result"
    }
   ],
   "source": [
    "x_minivan = minivans[['price', 'seat_7', 'seat_8', 'cargo_3ft', 'eng_hyb', 'eng_elec']]\n",
    "\n",
    "predictions = model.predict_proba(x_minivan)[:,1]\n",
    "\n",
    "predictions"
   ]
  },
  {
   "cell_type": "code",
   "execution_count": 158,
   "metadata": {},
   "outputs": [],
   "source": [
    "# add predictions to the minivans dataframe\n",
    "\n",
    "minivans['predictions'] = predictions"
   ]
  },
  {
   "cell_type": "code",
   "execution_count": 160,
   "metadata": {},
   "outputs": [],
   "source": [
    "# calculate market share for each\n",
    "\n",
    "minivans['market_share'] = minivans['predictions']/minivans['predictions'].sum()"
   ]
  },
  {
   "cell_type": "code",
   "execution_count": 163,
   "metadata": {},
   "outputs": [
    {
     "data": {
      "text/html": [
       "<div>\n",
       "<style scoped>\n",
       "    .dataframe tbody tr th:only-of-type {\n",
       "        vertical-align: middle;\n",
       "    }\n",
       "\n",
       "    .dataframe tbody tr th {\n",
       "        vertical-align: top;\n",
       "    }\n",
       "\n",
       "    .dataframe thead th {\n",
       "        text-align: right;\n",
       "    }\n",
       "</style>\n",
       "<table border=\"1\" class=\"dataframe\">\n",
       "  <thead>\n",
       "    <tr style=\"text-align: right;\">\n",
       "      <th></th>\n",
       "      <th>minivan</th>\n",
       "      <th>price</th>\n",
       "      <th>seat_7</th>\n",
       "      <th>seat_8</th>\n",
       "      <th>cargo_3ft</th>\n",
       "      <th>eng_elec</th>\n",
       "      <th>eng_hyb</th>\n",
       "      <th>predictions</th>\n",
       "      <th>market_share</th>\n",
       "    </tr>\n",
       "  </thead>\n",
       "  <tbody>\n",
       "    <tr>\n",
       "      <th>0</th>\n",
       "      <td>A</td>\n",
       "      <td>30</td>\n",
       "      <td>True</td>\n",
       "      <td>False</td>\n",
       "      <td>False</td>\n",
       "      <td>False</td>\n",
       "      <td>True</td>\n",
       "      <td>0.371610</td>\n",
       "      <td>0.164756</td>\n",
       "    </tr>\n",
       "    <tr>\n",
       "      <th>1</th>\n",
       "      <td>B</td>\n",
       "      <td>30</td>\n",
       "      <td>False</td>\n",
       "      <td>False</td>\n",
       "      <td>False</td>\n",
       "      <td>False</td>\n",
       "      <td>False</td>\n",
       "      <td>0.680412</td>\n",
       "      <td>0.301665</td>\n",
       "    </tr>\n",
       "    <tr>\n",
       "      <th>2</th>\n",
       "      <td>C</td>\n",
       "      <td>30</td>\n",
       "      <td>False</td>\n",
       "      <td>True</td>\n",
       "      <td>False</td>\n",
       "      <td>False</td>\n",
       "      <td>False</td>\n",
       "      <td>0.613902</td>\n",
       "      <td>0.272177</td>\n",
       "    </tr>\n",
       "    <tr>\n",
       "      <th>3</th>\n",
       "      <td>D</td>\n",
       "      <td>40</td>\n",
       "      <td>True</td>\n",
       "      <td>False</td>\n",
       "      <td>True</td>\n",
       "      <td>False</td>\n",
       "      <td>False</td>\n",
       "      <td>0.284943</td>\n",
       "      <td>0.126331</td>\n",
       "    </tr>\n",
       "    <tr>\n",
       "      <th>4</th>\n",
       "      <td>E</td>\n",
       "      <td>40</td>\n",
       "      <td>False</td>\n",
       "      <td>False</td>\n",
       "      <td>False</td>\n",
       "      <td>True</td>\n",
       "      <td>False</td>\n",
       "      <td>0.093924</td>\n",
       "      <td>0.041642</td>\n",
       "    </tr>\n",
       "    <tr>\n",
       "      <th>5</th>\n",
       "      <td>F</td>\n",
       "      <td>35</td>\n",
       "      <td>True</td>\n",
       "      <td>False</td>\n",
       "      <td>False</td>\n",
       "      <td>False</td>\n",
       "      <td>True</td>\n",
       "      <td>0.210731</td>\n",
       "      <td>0.093429</td>\n",
       "    </tr>\n",
       "  </tbody>\n",
       "</table>\n",
       "</div>"
      ],
      "text/plain": [
       "  minivan  price  seat_7  seat_8  cargo_3ft  eng_elec  eng_hyb  predictions  \\\n",
       "0       A     30    True   False      False     False     True     0.371610   \n",
       "1       B     30   False   False      False     False    False     0.680412   \n",
       "2       C     30   False    True      False     False    False     0.613902   \n",
       "3       D     40    True   False       True     False    False     0.284943   \n",
       "4       E     40   False   False      False      True    False     0.093924   \n",
       "5       F     35    True   False      False     False     True     0.210731   \n",
       "\n",
       "   market_share  \n",
       "0      0.164756  \n",
       "1      0.301665  \n",
       "2      0.272177  \n",
       "3      0.126331  \n",
       "4      0.041642  \n",
       "5      0.093429  "
      ]
     },
     "execution_count": 163,
     "metadata": {},
     "output_type": "execute_result"
    }
   ],
   "source": [
    "minivans"
   ]
  }
 ],
 "metadata": {
  "kernelspec": {
   "display_name": "base",
   "language": "python",
   "name": "python3"
  },
  "language_info": {
   "codemirror_mode": {
    "name": "ipython",
    "version": 3
   },
   "file_extension": ".py",
   "mimetype": "text/x-python",
   "name": "python",
   "nbconvert_exporter": "python",
   "pygments_lexer": "ipython3",
   "version": "3.11.7"
  }
 },
 "nbformat": 4,
 "nbformat_minor": 2
}
