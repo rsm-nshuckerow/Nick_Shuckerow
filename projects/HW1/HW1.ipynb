{
 "cells": [
  {
   "cell_type": "code",
   "execution_count": 3,
   "metadata": {},
   "outputs": [
    {
     "data": {
      "text/html": [
       "<div>\n",
       "<style scoped>\n",
       "    .dataframe tbody tr th:only-of-type {\n",
       "        vertical-align: middle;\n",
       "    }\n",
       "\n",
       "    .dataframe tbody tr th {\n",
       "        vertical-align: top;\n",
       "    }\n",
       "\n",
       "    .dataframe thead th {\n",
       "        text-align: right;\n",
       "    }\n",
       "</style>\n",
       "<table border=\"1\" class=\"dataframe\">\n",
       "  <thead>\n",
       "    <tr style=\"text-align: right;\">\n",
       "      <th></th>\n",
       "      <th>treatment</th>\n",
       "      <th>control</th>\n",
       "      <th>ratio</th>\n",
       "      <th>ratio2</th>\n",
       "      <th>ratio3</th>\n",
       "      <th>size</th>\n",
       "      <th>size25</th>\n",
       "      <th>size50</th>\n",
       "      <th>size100</th>\n",
       "      <th>sizeno</th>\n",
       "      <th>...</th>\n",
       "      <th>redcty</th>\n",
       "      <th>bluecty</th>\n",
       "      <th>pwhite</th>\n",
       "      <th>pblack</th>\n",
       "      <th>page18_39</th>\n",
       "      <th>ave_hh_sz</th>\n",
       "      <th>median_hhincome</th>\n",
       "      <th>powner</th>\n",
       "      <th>psch_atlstba</th>\n",
       "      <th>pop_propurban</th>\n",
       "    </tr>\n",
       "  </thead>\n",
       "  <tbody>\n",
       "    <tr>\n",
       "      <th>0</th>\n",
       "      <td>0</td>\n",
       "      <td>1</td>\n",
       "      <td>Control</td>\n",
       "      <td>0</td>\n",
       "      <td>0</td>\n",
       "      <td>Control</td>\n",
       "      <td>0</td>\n",
       "      <td>0</td>\n",
       "      <td>0</td>\n",
       "      <td>0</td>\n",
       "      <td>...</td>\n",
       "      <td>0.0</td>\n",
       "      <td>1.0</td>\n",
       "      <td>0.446493</td>\n",
       "      <td>0.527769</td>\n",
       "      <td>0.317591</td>\n",
       "      <td>2.10</td>\n",
       "      <td>28517.0</td>\n",
       "      <td>0.499807</td>\n",
       "      <td>0.324528</td>\n",
       "      <td>1.000000</td>\n",
       "    </tr>\n",
       "    <tr>\n",
       "      <th>1</th>\n",
       "      <td>0</td>\n",
       "      <td>1</td>\n",
       "      <td>Control</td>\n",
       "      <td>0</td>\n",
       "      <td>0</td>\n",
       "      <td>Control</td>\n",
       "      <td>0</td>\n",
       "      <td>0</td>\n",
       "      <td>0</td>\n",
       "      <td>0</td>\n",
       "      <td>...</td>\n",
       "      <td>1.0</td>\n",
       "      <td>0.0</td>\n",
       "      <td>NaN</td>\n",
       "      <td>NaN</td>\n",
       "      <td>NaN</td>\n",
       "      <td>NaN</td>\n",
       "      <td>NaN</td>\n",
       "      <td>NaN</td>\n",
       "      <td>NaN</td>\n",
       "      <td>NaN</td>\n",
       "    </tr>\n",
       "    <tr>\n",
       "      <th>2</th>\n",
       "      <td>1</td>\n",
       "      <td>0</td>\n",
       "      <td>1</td>\n",
       "      <td>0</td>\n",
       "      <td>0</td>\n",
       "      <td>$100,000</td>\n",
       "      <td>0</td>\n",
       "      <td>0</td>\n",
       "      <td>1</td>\n",
       "      <td>0</td>\n",
       "      <td>...</td>\n",
       "      <td>0.0</td>\n",
       "      <td>1.0</td>\n",
       "      <td>0.935706</td>\n",
       "      <td>0.011948</td>\n",
       "      <td>0.276128</td>\n",
       "      <td>2.48</td>\n",
       "      <td>51175.0</td>\n",
       "      <td>0.721941</td>\n",
       "      <td>0.192668</td>\n",
       "      <td>1.000000</td>\n",
       "    </tr>\n",
       "    <tr>\n",
       "      <th>3</th>\n",
       "      <td>1</td>\n",
       "      <td>0</td>\n",
       "      <td>1</td>\n",
       "      <td>0</td>\n",
       "      <td>0</td>\n",
       "      <td>Unstated</td>\n",
       "      <td>0</td>\n",
       "      <td>0</td>\n",
       "      <td>0</td>\n",
       "      <td>1</td>\n",
       "      <td>...</td>\n",
       "      <td>1.0</td>\n",
       "      <td>0.0</td>\n",
       "      <td>0.888331</td>\n",
       "      <td>0.010760</td>\n",
       "      <td>0.279412</td>\n",
       "      <td>2.65</td>\n",
       "      <td>79269.0</td>\n",
       "      <td>0.920431</td>\n",
       "      <td>0.412142</td>\n",
       "      <td>1.000000</td>\n",
       "    </tr>\n",
       "    <tr>\n",
       "      <th>4</th>\n",
       "      <td>1</td>\n",
       "      <td>0</td>\n",
       "      <td>1</td>\n",
       "      <td>0</td>\n",
       "      <td>0</td>\n",
       "      <td>$50,000</td>\n",
       "      <td>0</td>\n",
       "      <td>1</td>\n",
       "      <td>0</td>\n",
       "      <td>0</td>\n",
       "      <td>...</td>\n",
       "      <td>0.0</td>\n",
       "      <td>1.0</td>\n",
       "      <td>0.759014</td>\n",
       "      <td>0.127421</td>\n",
       "      <td>0.442389</td>\n",
       "      <td>1.85</td>\n",
       "      <td>40908.0</td>\n",
       "      <td>0.416072</td>\n",
       "      <td>0.439965</td>\n",
       "      <td>1.000000</td>\n",
       "    </tr>\n",
       "    <tr>\n",
       "      <th>...</th>\n",
       "      <td>...</td>\n",
       "      <td>...</td>\n",
       "      <td>...</td>\n",
       "      <td>...</td>\n",
       "      <td>...</td>\n",
       "      <td>...</td>\n",
       "      <td>...</td>\n",
       "      <td>...</td>\n",
       "      <td>...</td>\n",
       "      <td>...</td>\n",
       "      <td>...</td>\n",
       "      <td>...</td>\n",
       "      <td>...</td>\n",
       "      <td>...</td>\n",
       "      <td>...</td>\n",
       "      <td>...</td>\n",
       "      <td>...</td>\n",
       "      <td>...</td>\n",
       "      <td>...</td>\n",
       "      <td>...</td>\n",
       "      <td>...</td>\n",
       "    </tr>\n",
       "    <tr>\n",
       "      <th>50078</th>\n",
       "      <td>1</td>\n",
       "      <td>0</td>\n",
       "      <td>1</td>\n",
       "      <td>0</td>\n",
       "      <td>0</td>\n",
       "      <td>$25,000</td>\n",
       "      <td>1</td>\n",
       "      <td>0</td>\n",
       "      <td>0</td>\n",
       "      <td>0</td>\n",
       "      <td>...</td>\n",
       "      <td>0.0</td>\n",
       "      <td>1.0</td>\n",
       "      <td>0.872797</td>\n",
       "      <td>0.089959</td>\n",
       "      <td>0.257265</td>\n",
       "      <td>2.13</td>\n",
       "      <td>45047.0</td>\n",
       "      <td>0.771316</td>\n",
       "      <td>0.263744</td>\n",
       "      <td>1.000000</td>\n",
       "    </tr>\n",
       "    <tr>\n",
       "      <th>50079</th>\n",
       "      <td>0</td>\n",
       "      <td>1</td>\n",
       "      <td>Control</td>\n",
       "      <td>0</td>\n",
       "      <td>0</td>\n",
       "      <td>Control</td>\n",
       "      <td>0</td>\n",
       "      <td>0</td>\n",
       "      <td>0</td>\n",
       "      <td>0</td>\n",
       "      <td>...</td>\n",
       "      <td>0.0</td>\n",
       "      <td>1.0</td>\n",
       "      <td>0.688262</td>\n",
       "      <td>0.108889</td>\n",
       "      <td>0.288792</td>\n",
       "      <td>2.67</td>\n",
       "      <td>74655.0</td>\n",
       "      <td>0.741931</td>\n",
       "      <td>0.586466</td>\n",
       "      <td>1.000000</td>\n",
       "    </tr>\n",
       "    <tr>\n",
       "      <th>50080</th>\n",
       "      <td>0</td>\n",
       "      <td>1</td>\n",
       "      <td>Control</td>\n",
       "      <td>0</td>\n",
       "      <td>0</td>\n",
       "      <td>Control</td>\n",
       "      <td>0</td>\n",
       "      <td>0</td>\n",
       "      <td>0</td>\n",
       "      <td>0</td>\n",
       "      <td>...</td>\n",
       "      <td>1.0</td>\n",
       "      <td>0.0</td>\n",
       "      <td>0.900000</td>\n",
       "      <td>0.021311</td>\n",
       "      <td>0.178689</td>\n",
       "      <td>2.36</td>\n",
       "      <td>26667.0</td>\n",
       "      <td>0.778689</td>\n",
       "      <td>0.107930</td>\n",
       "      <td>0.000000</td>\n",
       "    </tr>\n",
       "    <tr>\n",
       "      <th>50081</th>\n",
       "      <td>1</td>\n",
       "      <td>0</td>\n",
       "      <td>3</td>\n",
       "      <td>0</td>\n",
       "      <td>1</td>\n",
       "      <td>Unstated</td>\n",
       "      <td>0</td>\n",
       "      <td>0</td>\n",
       "      <td>0</td>\n",
       "      <td>1</td>\n",
       "      <td>...</td>\n",
       "      <td>1.0</td>\n",
       "      <td>0.0</td>\n",
       "      <td>0.917206</td>\n",
       "      <td>0.008257</td>\n",
       "      <td>0.225619</td>\n",
       "      <td>2.57</td>\n",
       "      <td>39530.0</td>\n",
       "      <td>0.733988</td>\n",
       "      <td>0.184768</td>\n",
       "      <td>0.634903</td>\n",
       "    </tr>\n",
       "    <tr>\n",
       "      <th>50082</th>\n",
       "      <td>1</td>\n",
       "      <td>0</td>\n",
       "      <td>3</td>\n",
       "      <td>0</td>\n",
       "      <td>1</td>\n",
       "      <td>$25,000</td>\n",
       "      <td>1</td>\n",
       "      <td>0</td>\n",
       "      <td>0</td>\n",
       "      <td>0</td>\n",
       "      <td>...</td>\n",
       "      <td>0.0</td>\n",
       "      <td>1.0</td>\n",
       "      <td>0.530023</td>\n",
       "      <td>0.074112</td>\n",
       "      <td>0.340698</td>\n",
       "      <td>3.70</td>\n",
       "      <td>48744.0</td>\n",
       "      <td>0.717843</td>\n",
       "      <td>0.127941</td>\n",
       "      <td>0.994181</td>\n",
       "    </tr>\n",
       "  </tbody>\n",
       "</table>\n",
       "<p>50083 rows × 51 columns</p>\n",
       "</div>"
      ],
      "text/plain": [
       "       treatment  control    ratio  ratio2  ratio3      size  size25  size50  \\\n",
       "0              0        1  Control       0       0   Control       0       0   \n",
       "1              0        1  Control       0       0   Control       0       0   \n",
       "2              1        0        1       0       0  $100,000       0       0   \n",
       "3              1        0        1       0       0  Unstated       0       0   \n",
       "4              1        0        1       0       0   $50,000       0       1   \n",
       "...          ...      ...      ...     ...     ...       ...     ...     ...   \n",
       "50078          1        0        1       0       0   $25,000       1       0   \n",
       "50079          0        1  Control       0       0   Control       0       0   \n",
       "50080          0        1  Control       0       0   Control       0       0   \n",
       "50081          1        0        3       0       1  Unstated       0       0   \n",
       "50082          1        0        3       0       1   $25,000       1       0   \n",
       "\n",
       "       size100  sizeno  ... redcty  bluecty    pwhite    pblack  page18_39  \\\n",
       "0            0       0  ...    0.0      1.0  0.446493  0.527769   0.317591   \n",
       "1            0       0  ...    1.0      0.0       NaN       NaN        NaN   \n",
       "2            1       0  ...    0.0      1.0  0.935706  0.011948   0.276128   \n",
       "3            0       1  ...    1.0      0.0  0.888331  0.010760   0.279412   \n",
       "4            0       0  ...    0.0      1.0  0.759014  0.127421   0.442389   \n",
       "...        ...     ...  ...    ...      ...       ...       ...        ...   \n",
       "50078        0       0  ...    0.0      1.0  0.872797  0.089959   0.257265   \n",
       "50079        0       0  ...    0.0      1.0  0.688262  0.108889   0.288792   \n",
       "50080        0       0  ...    1.0      0.0  0.900000  0.021311   0.178689   \n",
       "50081        0       1  ...    1.0      0.0  0.917206  0.008257   0.225619   \n",
       "50082        0       0  ...    0.0      1.0  0.530023  0.074112   0.340698   \n",
       "\n",
       "       ave_hh_sz  median_hhincome    powner  psch_atlstba  pop_propurban  \n",
       "0           2.10          28517.0  0.499807      0.324528       1.000000  \n",
       "1            NaN              NaN       NaN           NaN            NaN  \n",
       "2           2.48          51175.0  0.721941      0.192668       1.000000  \n",
       "3           2.65          79269.0  0.920431      0.412142       1.000000  \n",
       "4           1.85          40908.0  0.416072      0.439965       1.000000  \n",
       "...          ...              ...       ...           ...            ...  \n",
       "50078       2.13          45047.0  0.771316      0.263744       1.000000  \n",
       "50079       2.67          74655.0  0.741931      0.586466       1.000000  \n",
       "50080       2.36          26667.0  0.778689      0.107930       0.000000  \n",
       "50081       2.57          39530.0  0.733988      0.184768       0.634903  \n",
       "50082       3.70          48744.0  0.717843      0.127941       0.994181  \n",
       "\n",
       "[50083 rows x 51 columns]"
      ]
     },
     "execution_count": 3,
     "metadata": {},
     "output_type": "execute_result"
    }
   ],
   "source": [
    "import pandas as pd\n",
    "from scipy import stats\n",
    "karlan = pd.read_stata(\"karlan_list_2007.dta\")\n",
    "karlan"
   ]
  },
  {
   "cell_type": "code",
   "execution_count": 2,
   "metadata": {},
   "outputs": [
    {
     "data": {
      "text/html": [
       "<div>\n",
       "<style scoped>\n",
       "    .dataframe tbody tr th:only-of-type {\n",
       "        vertical-align: middle;\n",
       "    }\n",
       "\n",
       "    .dataframe tbody tr th {\n",
       "        vertical-align: top;\n",
       "    }\n",
       "\n",
       "    .dataframe thead th {\n",
       "        text-align: right;\n",
       "    }\n",
       "</style>\n",
       "<table border=\"1\" class=\"dataframe\">\n",
       "  <thead>\n",
       "    <tr style=\"text-align: right;\">\n",
       "      <th></th>\n",
       "      <th>treatment</th>\n",
       "      <th>control</th>\n",
       "      <th>ratio2</th>\n",
       "      <th>ratio3</th>\n",
       "      <th>size25</th>\n",
       "      <th>size50</th>\n",
       "      <th>size100</th>\n",
       "      <th>sizeno</th>\n",
       "      <th>askd1</th>\n",
       "      <th>askd2</th>\n",
       "      <th>...</th>\n",
       "      <th>redcty</th>\n",
       "      <th>bluecty</th>\n",
       "      <th>pwhite</th>\n",
       "      <th>pblack</th>\n",
       "      <th>page18_39</th>\n",
       "      <th>ave_hh_sz</th>\n",
       "      <th>median_hhincome</th>\n",
       "      <th>powner</th>\n",
       "      <th>psch_atlstba</th>\n",
       "      <th>pop_propurban</th>\n",
       "    </tr>\n",
       "  </thead>\n",
       "  <tbody>\n",
       "    <tr>\n",
       "      <th>count</th>\n",
       "      <td>50083.000000</td>\n",
       "      <td>50083.000000</td>\n",
       "      <td>50083.000000</td>\n",
       "      <td>50083.000000</td>\n",
       "      <td>50083.000000</td>\n",
       "      <td>50083.000000</td>\n",
       "      <td>50083.000000</td>\n",
       "      <td>50083.000000</td>\n",
       "      <td>50083.000000</td>\n",
       "      <td>50083.000000</td>\n",
       "      <td>...</td>\n",
       "      <td>49978.000000</td>\n",
       "      <td>49978.000000</td>\n",
       "      <td>48217.000000</td>\n",
       "      <td>48047.000000</td>\n",
       "      <td>48217.000000</td>\n",
       "      <td>48221.000000</td>\n",
       "      <td>48209.000000</td>\n",
       "      <td>48214.000000</td>\n",
       "      <td>48215.000000</td>\n",
       "      <td>48217.000000</td>\n",
       "    </tr>\n",
       "    <tr>\n",
       "      <th>mean</th>\n",
       "      <td>0.666813</td>\n",
       "      <td>0.333187</td>\n",
       "      <td>0.222311</td>\n",
       "      <td>0.222211</td>\n",
       "      <td>0.166723</td>\n",
       "      <td>0.166623</td>\n",
       "      <td>0.166723</td>\n",
       "      <td>0.166743</td>\n",
       "      <td>0.222311</td>\n",
       "      <td>0.222291</td>\n",
       "      <td>...</td>\n",
       "      <td>0.510245</td>\n",
       "      <td>0.488715</td>\n",
       "      <td>0.819599</td>\n",
       "      <td>0.086710</td>\n",
       "      <td>0.321694</td>\n",
       "      <td>2.429012</td>\n",
       "      <td>54815.700533</td>\n",
       "      <td>0.669418</td>\n",
       "      <td>0.391661</td>\n",
       "      <td>0.871968</td>\n",
       "    </tr>\n",
       "    <tr>\n",
       "      <th>std</th>\n",
       "      <td>0.471357</td>\n",
       "      <td>0.471357</td>\n",
       "      <td>0.415803</td>\n",
       "      <td>0.415736</td>\n",
       "      <td>0.372732</td>\n",
       "      <td>0.372643</td>\n",
       "      <td>0.372732</td>\n",
       "      <td>0.372750</td>\n",
       "      <td>0.415803</td>\n",
       "      <td>0.415790</td>\n",
       "      <td>...</td>\n",
       "      <td>0.499900</td>\n",
       "      <td>0.499878</td>\n",
       "      <td>0.168560</td>\n",
       "      <td>0.135868</td>\n",
       "      <td>0.103039</td>\n",
       "      <td>0.378105</td>\n",
       "      <td>22027.316665</td>\n",
       "      <td>0.193405</td>\n",
       "      <td>0.186599</td>\n",
       "      <td>0.258633</td>\n",
       "    </tr>\n",
       "    <tr>\n",
       "      <th>min</th>\n",
       "      <td>0.000000</td>\n",
       "      <td>0.000000</td>\n",
       "      <td>0.000000</td>\n",
       "      <td>0.000000</td>\n",
       "      <td>0.000000</td>\n",
       "      <td>0.000000</td>\n",
       "      <td>0.000000</td>\n",
       "      <td>0.000000</td>\n",
       "      <td>0.000000</td>\n",
       "      <td>0.000000</td>\n",
       "      <td>...</td>\n",
       "      <td>0.000000</td>\n",
       "      <td>0.000000</td>\n",
       "      <td>0.009418</td>\n",
       "      <td>0.000000</td>\n",
       "      <td>0.000000</td>\n",
       "      <td>0.000000</td>\n",
       "      <td>5000.000000</td>\n",
       "      <td>0.000000</td>\n",
       "      <td>0.000000</td>\n",
       "      <td>0.000000</td>\n",
       "    </tr>\n",
       "    <tr>\n",
       "      <th>25%</th>\n",
       "      <td>0.000000</td>\n",
       "      <td>0.000000</td>\n",
       "      <td>0.000000</td>\n",
       "      <td>0.000000</td>\n",
       "      <td>0.000000</td>\n",
       "      <td>0.000000</td>\n",
       "      <td>0.000000</td>\n",
       "      <td>0.000000</td>\n",
       "      <td>0.000000</td>\n",
       "      <td>0.000000</td>\n",
       "      <td>...</td>\n",
       "      <td>0.000000</td>\n",
       "      <td>0.000000</td>\n",
       "      <td>0.755845</td>\n",
       "      <td>0.014729</td>\n",
       "      <td>0.258311</td>\n",
       "      <td>2.210000</td>\n",
       "      <td>39181.000000</td>\n",
       "      <td>0.560222</td>\n",
       "      <td>0.235647</td>\n",
       "      <td>0.884929</td>\n",
       "    </tr>\n",
       "    <tr>\n",
       "      <th>50%</th>\n",
       "      <td>1.000000</td>\n",
       "      <td>0.000000</td>\n",
       "      <td>0.000000</td>\n",
       "      <td>0.000000</td>\n",
       "      <td>0.000000</td>\n",
       "      <td>0.000000</td>\n",
       "      <td>0.000000</td>\n",
       "      <td>0.000000</td>\n",
       "      <td>0.000000</td>\n",
       "      <td>0.000000</td>\n",
       "      <td>...</td>\n",
       "      <td>1.000000</td>\n",
       "      <td>0.000000</td>\n",
       "      <td>0.872797</td>\n",
       "      <td>0.036554</td>\n",
       "      <td>0.305534</td>\n",
       "      <td>2.440000</td>\n",
       "      <td>50673.000000</td>\n",
       "      <td>0.712296</td>\n",
       "      <td>0.373744</td>\n",
       "      <td>1.000000</td>\n",
       "    </tr>\n",
       "    <tr>\n",
       "      <th>75%</th>\n",
       "      <td>1.000000</td>\n",
       "      <td>1.000000</td>\n",
       "      <td>0.000000</td>\n",
       "      <td>0.000000</td>\n",
       "      <td>0.000000</td>\n",
       "      <td>0.000000</td>\n",
       "      <td>0.000000</td>\n",
       "      <td>0.000000</td>\n",
       "      <td>0.000000</td>\n",
       "      <td>0.000000</td>\n",
       "      <td>...</td>\n",
       "      <td>1.000000</td>\n",
       "      <td>1.000000</td>\n",
       "      <td>0.938827</td>\n",
       "      <td>0.090882</td>\n",
       "      <td>0.369132</td>\n",
       "      <td>2.660000</td>\n",
       "      <td>66005.000000</td>\n",
       "      <td>0.816798</td>\n",
       "      <td>0.530036</td>\n",
       "      <td>1.000000</td>\n",
       "    </tr>\n",
       "    <tr>\n",
       "      <th>max</th>\n",
       "      <td>1.000000</td>\n",
       "      <td>1.000000</td>\n",
       "      <td>1.000000</td>\n",
       "      <td>1.000000</td>\n",
       "      <td>1.000000</td>\n",
       "      <td>1.000000</td>\n",
       "      <td>1.000000</td>\n",
       "      <td>1.000000</td>\n",
       "      <td>1.000000</td>\n",
       "      <td>1.000000</td>\n",
       "      <td>...</td>\n",
       "      <td>1.000000</td>\n",
       "      <td>1.000000</td>\n",
       "      <td>1.000000</td>\n",
       "      <td>0.989622</td>\n",
       "      <td>0.997544</td>\n",
       "      <td>5.270000</td>\n",
       "      <td>200001.000000</td>\n",
       "      <td>1.000000</td>\n",
       "      <td>1.000000</td>\n",
       "      <td>1.000000</td>\n",
       "    </tr>\n",
       "  </tbody>\n",
       "</table>\n",
       "<p>8 rows × 48 columns</p>\n",
       "</div>"
      ],
      "text/plain": [
       "          treatment       control        ratio2        ratio3        size25  \\\n",
       "count  50083.000000  50083.000000  50083.000000  50083.000000  50083.000000   \n",
       "mean       0.666813      0.333187      0.222311      0.222211      0.166723   \n",
       "std        0.471357      0.471357      0.415803      0.415736      0.372732   \n",
       "min        0.000000      0.000000      0.000000      0.000000      0.000000   \n",
       "25%        0.000000      0.000000      0.000000      0.000000      0.000000   \n",
       "50%        1.000000      0.000000      0.000000      0.000000      0.000000   \n",
       "75%        1.000000      1.000000      0.000000      0.000000      0.000000   \n",
       "max        1.000000      1.000000      1.000000      1.000000      1.000000   \n",
       "\n",
       "             size50       size100        sizeno         askd1         askd2  \\\n",
       "count  50083.000000  50083.000000  50083.000000  50083.000000  50083.000000   \n",
       "mean       0.166623      0.166723      0.166743      0.222311      0.222291   \n",
       "std        0.372643      0.372732      0.372750      0.415803      0.415790   \n",
       "min        0.000000      0.000000      0.000000      0.000000      0.000000   \n",
       "25%        0.000000      0.000000      0.000000      0.000000      0.000000   \n",
       "50%        0.000000      0.000000      0.000000      0.000000      0.000000   \n",
       "75%        0.000000      0.000000      0.000000      0.000000      0.000000   \n",
       "max        1.000000      1.000000      1.000000      1.000000      1.000000   \n",
       "\n",
       "       ...        redcty       bluecty        pwhite        pblack  \\\n",
       "count  ...  49978.000000  49978.000000  48217.000000  48047.000000   \n",
       "mean   ...      0.510245      0.488715      0.819599      0.086710   \n",
       "std    ...      0.499900      0.499878      0.168560      0.135868   \n",
       "min    ...      0.000000      0.000000      0.009418      0.000000   \n",
       "25%    ...      0.000000      0.000000      0.755845      0.014729   \n",
       "50%    ...      1.000000      0.000000      0.872797      0.036554   \n",
       "75%    ...      1.000000      1.000000      0.938827      0.090882   \n",
       "max    ...      1.000000      1.000000      1.000000      0.989622   \n",
       "\n",
       "          page18_39     ave_hh_sz  median_hhincome        powner  \\\n",
       "count  48217.000000  48221.000000     48209.000000  48214.000000   \n",
       "mean       0.321694      2.429012     54815.700533      0.669418   \n",
       "std        0.103039      0.378105     22027.316665      0.193405   \n",
       "min        0.000000      0.000000      5000.000000      0.000000   \n",
       "25%        0.258311      2.210000     39181.000000      0.560222   \n",
       "50%        0.305534      2.440000     50673.000000      0.712296   \n",
       "75%        0.369132      2.660000     66005.000000      0.816798   \n",
       "max        0.997544      5.270000    200001.000000      1.000000   \n",
       "\n",
       "       psch_atlstba  pop_propurban  \n",
       "count  48215.000000   48217.000000  \n",
       "mean       0.391661       0.871968  \n",
       "std        0.186599       0.258633  \n",
       "min        0.000000       0.000000  \n",
       "25%        0.235647       0.884929  \n",
       "50%        0.373744       1.000000  \n",
       "75%        0.530036       1.000000  \n",
       "max        1.000000       1.000000  \n",
       "\n",
       "[8 rows x 48 columns]"
      ]
     },
     "execution_count": 2,
     "metadata": {},
     "output_type": "execute_result"
    }
   ],
   "source": [
    "karlan.describe()"
   ]
  },
  {
   "cell_type": "code",
   "execution_count": 2,
   "metadata": {},
   "outputs": [
    {
     "name": "stdout",
     "output_type": "stream",
     "text": [
      "<class 'pandas.core.frame.DataFrame'>\n",
      "RangeIndex: 50083 entries, 0 to 50082\n",
      "Data columns (total 51 columns):\n",
      " #   Column              Non-Null Count  Dtype   \n",
      "---  ------              --------------  -----   \n",
      " 0   treatment           50083 non-null  int8    \n",
      " 1   control             50083 non-null  int8    \n",
      " 2   ratio               50083 non-null  category\n",
      " 3   ratio2              50083 non-null  int8    \n",
      " 4   ratio3              50083 non-null  int8    \n",
      " 5   size                50083 non-null  category\n",
      " 6   size25              50083 non-null  int8    \n",
      " 7   size50              50083 non-null  int8    \n",
      " 8   size100             50083 non-null  int8    \n",
      " 9   sizeno              50083 non-null  int8    \n",
      " 10  ask                 50083 non-null  category\n",
      " 11  askd1               50083 non-null  int8    \n",
      " 12  askd2               50083 non-null  int8    \n",
      " 13  askd3               50083 non-null  int8    \n",
      " 14  ask1                50083 non-null  int16   \n",
      " 15  ask2                50083 non-null  int16   \n",
      " 16  ask3                50083 non-null  int16   \n",
      " 17  amount              50083 non-null  float32 \n",
      " 18  gave                50083 non-null  int8    \n",
      " 19  amountchange        50083 non-null  float32 \n",
      " 20  hpa                 50083 non-null  float32 \n",
      " 21  ltmedmra            50083 non-null  int8    \n",
      " 22  freq                50083 non-null  int16   \n",
      " 23  years               50082 non-null  float64 \n",
      " 24  year5               50083 non-null  int8    \n",
      " 25  mrm2                50082 non-null  float64 \n",
      " 26  dormant             50083 non-null  int8    \n",
      " 27  female              48972 non-null  float64 \n",
      " 28  couple              48935 non-null  float64 \n",
      " 29  state50one          50083 non-null  int8    \n",
      " 30  nonlit              49631 non-null  float64 \n",
      " 31  cases               49631 non-null  float64 \n",
      " 32  statecnt            50083 non-null  float32 \n",
      " 33  stateresponse       50083 non-null  float32 \n",
      " 34  stateresponset      50083 non-null  float32 \n",
      " 35  stateresponsec      50080 non-null  float32 \n",
      " 36  stateresponsetminc  50080 non-null  float32 \n",
      " 37  perbush             50048 non-null  float32 \n",
      " 38  close25             50048 non-null  float64 \n",
      " 39  red0                50048 non-null  float64 \n",
      " 40  blue0               50048 non-null  float64 \n",
      " 41  redcty              49978 non-null  float64 \n",
      " 42  bluecty             49978 non-null  float64 \n",
      " 43  pwhite              48217 non-null  float32 \n",
      " 44  pblack              48047 non-null  float32 \n",
      " 45  page18_39           48217 non-null  float32 \n",
      " 46  ave_hh_sz           48221 non-null  float32 \n",
      " 47  median_hhincome     48209 non-null  float64 \n",
      " 48  powner              48214 non-null  float32 \n",
      " 49  psch_atlstba        48215 non-null  float32 \n",
      " 50  pop_propurban       48217 non-null  float32 \n",
      "dtypes: category(3), float32(16), float64(12), int16(4), int8(16)\n",
      "memory usage: 8.9 MB\n"
     ]
    }
   ],
   "source": [
    "karlan.info()"
   ]
  },
  {
   "cell_type": "code",
   "execution_count": 5,
   "metadata": {},
   "outputs": [],
   "source": [
    "# write karlan to csv\n",
    "\n",
    "karlan.to_csv(\"karlan.csv\")"
   ]
  },
  {
   "cell_type": "code",
   "execution_count": 11,
   "metadata": {},
   "outputs": [
    {
     "data": {
      "text/plain": [
       "0.11953155228176905"
      ]
     },
     "execution_count": 11,
     "metadata": {},
     "output_type": "execute_result"
    }
   ],
   "source": [
    "# Months since last donation t-test\n",
    "\n",
    "mrm2_treat = karlan[karlan['treatment'] == 1]['mrm2']\n",
    "mrm2_control = karlan[karlan['treatment'] == 0]['mrm2']\n",
    "\n",
    "mrm2_t_mean = mrm2_treat.mean()\n",
    "mrm2_c_mean = mrm2_control.mean()\n",
    "\n",
    "mrm2_t_std = mrm2_treat.std()\n",
    "mrm2_c_std = mrm2_control.std()\n",
    "\n",
    "mrm2_t_n = mrm2_treat.count()\n",
    "mrm2_c_n = mrm2_control.count()\n",
    "\n",
    "t_mrm2 = (mrm2_t_mean - mrm2_c_mean) / ((mrm2_t_std**2/mrm2_t_n) + (mrm2_c_std**2/mrm2_c_n))**0.5\n",
    "\n",
    "t_mrm2\n",
    "\n"
   ]
  },
  {
   "cell_type": "code",
   "execution_count": 19,
   "metadata": {},
   "outputs": [
    {
     "data": {
      "text/plain": [
       "0.9048547235822526"
      ]
     },
     "execution_count": 19,
     "metadata": {},
     "output_type": "execute_result"
    }
   ],
   "source": [
    "# calculate p-value\n",
    "\n",
    "p_mrm2 = stats.t.sf(abs(t_mrm2), mrm2_t_n + mrm2_c_n - 2) * 2\n",
    "p_mrm2\n",
    "\n",
    "# Not statistically significant"
   ]
  },
  {
   "cell_type": "code",
   "execution_count": 20,
   "metadata": {},
   "outputs": [
    {
     "data": {
      "text/plain": [
       "-0.5822577486768489"
      ]
     },
     "execution_count": 20,
     "metadata": {},
     "output_type": "execute_result"
    }
   ],
   "source": [
    "couple_treat = karlan[karlan['treatment'] == 1]['couple']\n",
    "couple_control = karlan[karlan['treatment'] == 0]['couple']\n",
    "\n",
    "couple_t_mean = couple_treat.mean()\n",
    "couple_c_mean = couple_control.mean()\n",
    "\n",
    "couple_t_std = couple_treat.std()\n",
    "couple_c_std = couple_control.std()\n",
    "\n",
    "couple_t_n = couple_treat.count()\n",
    "couple_c_n = couple_control.count()\n",
    "\n",
    "t_couple = (couple_t_mean - couple_c_mean) / ((couple_t_std**2/couple_t_n) + (couple_c_std**2/couple_c_n))**0.5\n",
    "\n",
    "t_couple"
   ]
  },
  {
   "cell_type": "code",
   "execution_count": 21,
   "metadata": {},
   "outputs": [
    {
     "data": {
      "text/plain": [
       "0.5603957630249871"
      ]
     },
     "execution_count": 21,
     "metadata": {},
     "output_type": "execute_result"
    }
   ],
   "source": [
    "# calculate p-value\n",
    "\n",
    "p_couple = stats.t.sf(abs(t_couple), couple_t_n + couple_c_n - 2) * 2\n",
    "p_couple\n",
    "\n",
    "# Not statistically significant"
   ]
  },
  {
   "cell_type": "code",
   "execution_count": 27,
   "metadata": {},
   "outputs": [],
   "source": [
    "# Linear Regression - mrm2\n",
    "\n",
    "import pyrsm as rsm\n",
    "\n"
   ]
  },
  {
   "cell_type": "code",
   "execution_count": 25,
   "metadata": {},
   "outputs": [
    {
     "name": "stdout",
     "output_type": "stream",
     "text": [
      "Linear regression (OLS)\n",
      "Data                 : Not provided\n",
      "Response variable    : mrm2\n",
      "Explanatory variables: treatment\n",
      "Null hyp.: the effect of x on mrm2 is zero\n",
      "Alt. hyp.: the effect of x on mrm2 is not zero\n",
      "\n",
      "           coefficient  std.error  t.value p.value     \n",
      "Intercept       12.998      0.094  138.979  < .001  ***\n",
      "treatment        0.014      0.115    0.119   0.905     \n",
      "\n",
      "Signif. codes:  0 '***' 0.001 '**' 0.01 '*' 0.05 '.' 0.1 ' ' 1\n",
      "\n",
      "R-squared: 0.0, Adjusted R-squared: -0.0\n",
      "F-statistic: 0.014 df(1, 50080), p.value 0.905\n",
      "Nr obs: 50,082\n"
     ]
    }
   ],
   "source": [
    "lr_mrm2 = rsm.regress(\n",
    "    data = karlan[['treatment', 'mrm2']],\n",
    "    evar = \"treatment\",\n",
    "    rvar = \"mrm2\"\n",
    "    )\n",
    "\n",
    "lr_mrm2.summary()"
   ]
  },
  {
   "cell_type": "code",
   "execution_count": 26,
   "metadata": {},
   "outputs": [
    {
     "name": "stdout",
     "output_type": "stream",
     "text": [
      "Linear regression (OLS)\n",
      "Data                 : Not provided\n",
      "Response variable    : couple\n",
      "Explanatory variables: treatment\n",
      "Null hyp.: the effect of x on couple is zero\n",
      "Alt. hyp.: the effect of x on couple is not zero\n",
      "\n",
      "           coefficient  std.error  t.value p.value     \n",
      "Intercept        0.093      0.002   41.124  < .001  ***\n",
      "treatment       -0.002      0.003   -0.584   0.559     \n",
      "\n",
      "Signif. codes:  0 '***' 0.001 '**' 0.01 '*' 0.05 '.' 0.1 ' ' 1\n",
      "\n",
      "R-squared: 0.0, Adjusted R-squared: -0.0\n",
      "F-statistic: 0.341 df(1, 48933), p.value 0.559\n",
      "Nr obs: 48,935\n"
     ]
    }
   ],
   "source": [
    "lr_couple = rsm.regress(\n",
    "    data = karlan[['treatment', 'couple']],\n",
    "    evar = \"treatment\",\n",
    "    rvar = \"couple\"\n",
    "    )\n",
    "\n",
    "lr_couple.summary()"
   ]
  },
  {
   "cell_type": "markdown",
   "metadata": {},
   "source": [
    "The intercept coefficients calculated for mrm2 and couple variables are exactly the same as in table 1 of the paper for the control group. Also, when incorporating the coefficients for treatment (treatment = 1), they also equal the mean values in table 1 for the treatment group.\n",
    "\n",
    "For mrm2 (months since last donation), the control group mean was 12.998 and that increases to 13.012 if they were a part of the treatment group. This is not a large disparity and as such did not prove to be statistically significant on a 95% confidence interval.\n",
    "\n",
    "For couple (whether the donor was a couple), the control group mean was 0.093 (interpreted as 9.3% of donors in the control group were couples) and that decreases to 0.091 if they were a part of the treatment group. This is also not a large disparity and as such did not prove to be statistically significant on a 95% confidence interval."
   ]
  },
  {
   "cell_type": "code",
   "execution_count": 29,
   "metadata": {},
   "outputs": [
    {
     "data": {
      "text/plain": [
       "(0.02203856749311295, 0.017858212980164198)"
      ]
     },
     "execution_count": 29,
     "metadata": {},
     "output_type": "execute_result"
    }
   ],
   "source": [
    "# find proportion of treatment group that gave money\n",
    "\n",
    "treat_gave = karlan[karlan['treatment'] == 1]['gave'].mean()\n",
    "control_gave = karlan[karlan['treatment'] == 0]['gave'].mean()\n",
    "\n",
    "treat_gave, control_gave"
   ]
  },
  {
   "cell_type": "code",
   "execution_count": 30,
   "metadata": {},
   "outputs": [
    {
     "data": {
      "image/png": "[encoded data removed]",
      "text/plain": [
       "<Figure size 640x480 with 1 Axes>"
      ]
     },
     "metadata": {},
     "output_type": "display_data"
    }
   ],
   "source": [
    "# create bar graph for proportion of treatment/control group that gave money\n",
    "\n",
    "import matplotlib.pyplot as plt\n",
    "\n",
    "fig, ax = plt.subplots()\n",
    "ax.bar(['Treatment', 'Control'], [treat_gave, control_gave])\n",
    "ax.set_ylabel('Proportion of Group that Gave Money')\n",
    "ax.set_title('Proportion of Treatment and Control Group that Gave Money')\n",
    "plt.show()"
   ]
  },
  {
   "cell_type": "code",
   "execution_count": 31,
   "metadata": {},
   "outputs": [
    {
     "data": {
      "text/plain": [
       "3.2094621908279835"
      ]
     },
     "execution_count": 31,
     "metadata": {},
     "output_type": "execute_result"
    }
   ],
   "source": [
    "gave_treat = karlan[karlan['treatment'] == 1]['gave']\n",
    "gave_control = karlan[karlan['treatment'] == 0]['gave']\n",
    "\n",
    "gave_t_mean = gave_treat.mean()\n",
    "gave_c_mean = gave_control.mean()\n",
    "\n",
    "gave_t_std = gave_treat.std()\n",
    "gave_c_std = gave_control.std()\n",
    "\n",
    "gave_t_n = gave_treat.count()\n",
    "gave_c_n = gave_control.count()\n",
    "\n",
    "t_gave = (gave_t_mean - gave_c_mean) / ((gave_t_std**2/gave_t_n) + (gave_c_std**2/gave_c_n))**0.5\n",
    "\n",
    "t_gave"
   ]
  },
  {
   "cell_type": "code",
   "execution_count": 32,
   "metadata": {},
   "outputs": [
    {
     "data": {
      "text/plain": [
       "0.0013306730060655475"
      ]
     },
     "execution_count": 32,
     "metadata": {},
     "output_type": "execute_result"
    }
   ],
   "source": [
    "p_gave = stats.t.sf(abs(t_gave), gave_t_n + gave_c_n - 2) * 2\n",
    "p_gave\n",
    "\n",
    "# Statistically significant"
   ]
  },
  {
   "cell_type": "code",
   "execution_count": 33,
   "metadata": {},
   "outputs": [
    {
     "name": "stdout",
     "output_type": "stream",
     "text": [
      "Linear regression (OLS)\n",
      "Data                 : Not provided\n",
      "Response variable    : gave\n",
      "Explanatory variables: treatment\n",
      "Null hyp.: the effect of x on gave is zero\n",
      "Alt. hyp.: the effect of x on gave is not zero\n",
      "\n",
      "           coefficient  std.error  t.value p.value     \n",
      "Intercept        0.018      0.001   16.225  < .001  ***\n",
      "treatment        0.004      0.001    3.101   0.002   **\n",
      "\n",
      "Signif. codes:  0 '***' 0.001 '**' 0.01 '*' 0.05 '.' 0.1 ' ' 1\n",
      "\n",
      "R-squared: 0.0, Adjusted R-squared: 0.0\n",
      "F-statistic: 9.618 df(1, 50081), p.value 0.002\n",
      "Nr obs: 50,083\n"
     ]
    }
   ],
   "source": [
    "lr_gave = rsm.regress(\n",
    "    data = karlan[['treatment', 'gave']],\n",
    "    evar = \"treatment\",\n",
    "    rvar = \"gave\"\n",
    "    )\n",
    "\n",
    "lr_gave.summary()"
   ]
  },
  {
   "cell_type": "markdown",
   "metadata": {},
   "source": [
    "The outcome of our t-test and linear regression were both similar in that it was found at a 95% confidence interval that the treatment did cause an increase in the number of donations. The linear regression did not explain any variance in the data, however that is not as important because we are using what should be a logistic regression (binary outcome of 1 or 0 for if they donated or not) with a linear regression model. "
   ]
  },
  {
   "cell_type": "code",
   "execution_count": 35,
   "metadata": {},
   "outputs": [],
   "source": [
    "import statsmodels.formula.api as smf"
   ]
  },
  {
   "cell_type": "code",
   "execution_count": 39,
   "metadata": {},
   "outputs": [],
   "source": [
    "mod = smf.probit('gave ~ treatment', data=karlan)"
   ]
  },
  {
   "cell_type": "code",
   "execution_count": 40,
   "metadata": {},
   "outputs": [
    {
     "name": "stdout",
     "output_type": "stream",
     "text": [
      "Optimization terminated successfully.\n",
      "         Current function value: 0.100443\n",
      "         Iterations 7\n"
     ]
    }
   ],
   "source": [
    "res = mod.fit()"
   ]
  },
  {
   "cell_type": "code",
   "execution_count": 41,
   "metadata": {},
   "outputs": [
    {
     "data": {
      "text/html": [
       "<table class=\"simpletable\">\n",
       "<caption>Probit Regression Results</caption>\n",
       "<tr>\n",
       "  <th>Dep. Variable:</th>         <td>gave</td>       <th>  No. Observations:  </th>  <td> 50083</td>  \n",
       "</tr>\n",
       "<tr>\n",
       "  <th>Model:</th>                <td>Probit</td>      <th>  Df Residuals:      </th>  <td> 50081</td>  \n",
       "</tr>\n",
       "<tr>\n",
       "  <th>Method:</th>                 <td>MLE</td>       <th>  Df Model:          </th>  <td>     1</td>  \n",
       "</tr>\n",
       "<tr>\n",
       "  <th>Date:</th>            <td>Sun, 14 Apr 2024</td> <th>  Pseudo R-squ.:     </th> <td>0.0009783</td>\n",
       "</tr>\n",
       "<tr>\n",
       "  <th>Time:</th>                <td>18:35:36</td>     <th>  Log-Likelihood:    </th> <td> -5030.5</td> \n",
       "</tr>\n",
       "<tr>\n",
       "  <th>converged:</th>             <td>True</td>       <th>  LL-Null:           </th> <td> -5035.4</td> \n",
       "</tr>\n",
       "<tr>\n",
       "  <th>Covariance Type:</th>     <td>nonrobust</td>    <th>  LLR p-value:       </th> <td>0.001696</td> \n",
       "</tr>\n",
       "</table>\n",
       "<table class=\"simpletable\">\n",
       "<tr>\n",
       "      <td></td>         <th>coef</th>     <th>std err</th>      <th>z</th>      <th>P>|z|</th>  <th>[0.025</th>    <th>0.975]</th>  \n",
       "</tr>\n",
       "<tr>\n",
       "  <th>Intercept</th> <td>   -2.1001</td> <td>    0.023</td> <td>  -90.073</td> <td> 0.000</td> <td>   -2.146</td> <td>   -2.054</td>\n",
       "</tr>\n",
       "<tr>\n",
       "  <th>treatment</th> <td>    0.0868</td> <td>    0.028</td> <td>    3.113</td> <td> 0.002</td> <td>    0.032</td> <td>    0.141</td>\n",
       "</tr>\n",
       "</table>"
      ],
      "text/latex": [
       "\\begin{center}\n",
       "\\begin{tabular}{lclc}\n",
       "\\toprule\n",
       "\\textbf{Dep. Variable:}   &       gave       & \\textbf{  No. Observations:  } &    50083    \\\\\n",
       "\\textbf{Model:}           &      Probit      & \\textbf{  Df Residuals:      } &    50081    \\\\\n",
       "\\textbf{Method:}          &       MLE        & \\textbf{  Df Model:          } &        1    \\\\\n",
       "\\textbf{Date:}            & Sun, 14 Apr 2024 & \\textbf{  Pseudo R-squ.:     } & 0.0009783   \\\\\n",
       "\\textbf{Time:}            &     18:35:36     & \\textbf{  Log-Likelihood:    } &   -5030.5   \\\\\n",
       "\\textbf{converged:}       &       True       & \\textbf{  LL-Null:           } &   -5035.4   \\\\\n",
       "\\textbf{Covariance Type:} &    nonrobust     & \\textbf{  LLR p-value:       } &  0.001696   \\\\\n",
       "\\bottomrule\n",
       "\\end{tabular}\n",
       "\\begin{tabular}{lcccccc}\n",
       "                   & \\textbf{coef} & \\textbf{std err} & \\textbf{z} & \\textbf{P$> |$z$|$} & \\textbf{[0.025} & \\textbf{0.975]}  \\\\\n",
       "\\midrule\n",
       "\\textbf{Intercept} &      -2.1001  &        0.023     &   -90.073  &         0.000        &       -2.146    &       -2.054     \\\\\n",
       "\\textbf{treatment} &       0.0868  &        0.028     &     3.113  &         0.002        &        0.032    &        0.141     \\\\\n",
       "\\bottomrule\n",
       "\\end{tabular}\n",
       "%\\caption{Probit Regression Results}\n",
       "\\end{center}"
      ],
      "text/plain": [
       "<class 'statsmodels.iolib.summary.Summary'>\n",
       "\"\"\"\n",
       "                          Probit Regression Results                           \n",
       "==============================================================================\n",
       "Dep. Variable:                   gave   No. Observations:                50083\n",
       "Model:                         Probit   Df Residuals:                    50081\n",
       "Method:                           MLE   Df Model:                            1\n",
       "Date:                Sun, 14 Apr 2024   Pseudo R-squ.:               0.0009783\n",
       "Time:                        18:35:36   Log-Likelihood:                -5030.5\n",
       "converged:                       True   LL-Null:                       -5035.4\n",
       "Covariance Type:            nonrobust   LLR p-value:                  0.001696\n",
       "==============================================================================\n",
       "                 coef    std err          z      P>|z|      [0.025      0.975]\n",
       "------------------------------------------------------------------------------\n",
       "Intercept     -2.1001      0.023    -90.073      0.000      -2.146      -2.054\n",
       "treatment      0.0868      0.028      3.113      0.002       0.032       0.141\n",
       "==============================================================================\n",
       "\"\"\""
      ]
     },
     "execution_count": 41,
     "metadata": {},
     "output_type": "execute_result"
    }
   ],
   "source": [
    "res.summary()"
   ]
  },
  {
   "cell_type": "code",
   "execution_count": 42,
   "metadata": {},
   "outputs": [
    {
     "data": {
      "text/plain": [
       "0.965048975142932"
      ]
     },
     "execution_count": 42,
     "metadata": {},
     "output_type": "execute_result"
    }
   ],
   "source": [
    "gave_ratio1 = karlan[karlan['ratio'] == 1]['gave']\n",
    "gave_ratio2 = karlan[karlan['ratio'] == 2]['gave']\n",
    "\n",
    "gave_1_mean = gave_ratio1.mean()\n",
    "gave_2_mean = gave_ratio2.mean()\n",
    "\n",
    "gave_1_std = gave_ratio1.std()\n",
    "gave_2_std = gave_ratio2.std()\n",
    "\n",
    "gave_1_n = gave_ratio1.count()\n",
    "gave_2_n = gave_ratio2.count()\n",
    "\n",
    "t_gave_ratio = (gave_2_mean - gave_1_mean) / ((gave_2_std**2/gave_2_n) + (gave_1_std**2/gave_1_n))**0.5\n",
    "\n",
    "t_gave_ratio"
   ]
  },
  {
   "cell_type": "code",
   "execution_count": 46,
   "metadata": {},
   "outputs": [
    {
     "data": {
      "text/plain": [
       "(0.020749124225276205, 0.0226333752469912)"
      ]
     },
     "execution_count": 46,
     "metadata": {},
     "output_type": "execute_result"
    }
   ],
   "source": [
    "gave_1_mean, gave_2_mean"
   ]
  },
  {
   "cell_type": "code",
   "execution_count": 43,
   "metadata": {},
   "outputs": [
    {
     "data": {
      "text/plain": [
       "0.3345307635444439"
      ]
     },
     "execution_count": 43,
     "metadata": {},
     "output_type": "execute_result"
    }
   ],
   "source": [
    "p_gave_ratio = stats.t.sf(abs(t_gave_ratio), gave_2_n + gave_1_n - 2) * 2\n",
    "p_gave_ratio\n",
    "\n",
    "# Not statistically significant"
   ]
  },
  {
   "cell_type": "code",
   "execution_count": 44,
   "metadata": {},
   "outputs": [
    {
     "data": {
      "text/plain": [
       "-0.05011581369764474"
      ]
     },
     "execution_count": 44,
     "metadata": {},
     "output_type": "execute_result"
    }
   ],
   "source": [
    "gave_ratio3 = karlan[karlan['ratio'] == 3]['gave']\n",
    "gave_ratio2 = karlan[karlan['ratio'] == 2]['gave']\n",
    "\n",
    "gave_3_mean = gave_ratio3.mean()\n",
    "gave_2_mean = gave_ratio2.mean()\n",
    "\n",
    "gave_3_std = gave_ratio3.std()\n",
    "gave_2_std = gave_ratio2.std()\n",
    "\n",
    "gave_3_n = gave_ratio3.count()\n",
    "gave_2_n = gave_ratio2.count()\n",
    "\n",
    "t_gave_ratio_23 = (gave_2_mean - gave_3_mean) / ((gave_2_std**2/gave_2_n) + (gave_3_std**2/gave_3_n))**0.5\n",
    "\n",
    "t_gave_ratio_23"
   ]
  },
  {
   "cell_type": "code",
   "execution_count": 45,
   "metadata": {},
   "outputs": [
    {
     "data": {
      "text/plain": [
       "0.9600305476910405"
      ]
     },
     "execution_count": 45,
     "metadata": {},
     "output_type": "execute_result"
    }
   ],
   "source": [
    "p_gave_ratio_23 = stats.t.sf(abs(t_gave_ratio_23), gave_2_n + gave_3_n - 2) * 2\n",
    "p_gave_ratio_23\n",
    "\n",
    "# Not statistically significant"
   ]
  },
  {
   "cell_type": "markdown",
   "metadata": {},
   "source": [
    "The above calculations matches what Karlan suggests in his paper, that increasing the match ratio does not increase the probability of making a donation. The above calculations show a 1:1 match ratio when compared to a 2:1 match ratio, and a 2:1 match ratio when compared to a 3:1 match ratio. We did a two-sided t-test, which has a null hypothesis stating that 2:1 is not the same as 1:1, and 3:1 is not the same as 2:1. "
   ]
  },
  {
   "cell_type": "code",
   "execution_count": 49,
   "metadata": {},
   "outputs": [],
   "source": [
    "#create a variable ratio1 where if ratio column equals 1, then ratio1 equlas 1, else 0\n",
    "\n",
    "karlan['ratio1'] = karlan['ratio'].apply(lambda x: 1 if x == 1 else 0)"
   ]
  },
  {
   "cell_type": "code",
   "execution_count": 51,
   "metadata": {},
   "outputs": [
    {
     "name": "stdout",
     "output_type": "stream",
     "text": [
      "Linear regression (OLS)\n",
      "Data                 : Not provided\n",
      "Response variable    : gave\n",
      "Explanatory variables: ratio1, ratio2, ratio3\n",
      "Null hyp.: the effect of x on gave is zero\n",
      "Alt. hyp.: the effect of x on gave is not zero\n",
      "\n",
      "           coefficient  std.error  t.value p.value     \n",
      "Intercept        0.018      0.001   16.225  < .001  ***\n",
      "ratio1           0.003      0.002    1.661   0.097    .\n",
      "ratio2           0.005      0.002    2.744   0.006   **\n",
      "ratio3           0.005      0.002    2.802   0.005   **\n",
      "\n",
      "Signif. codes:  0 '***' 0.001 '**' 0.01 '*' 0.05 '.' 0.1 ' ' 1\n",
      "\n",
      "R-squared: 0.0, Adjusted R-squared: 0.0\n",
      "F-statistic: 3.665 df(3, 50079), p.value 0.012\n",
      "Nr obs: 50,083\n"
     ]
    }
   ],
   "source": [
    "# Linear regression for match ratios and treatment\n",
    "\n",
    "lr_ratio = rsm.regress(\n",
    "    data = karlan[['gave', 'ratio1', 'ratio2', 'ratio3']],\n",
    "    evar = ['ratio1', 'ratio2', 'ratio3'],\n",
    "    rvar = 'gave'\n",
    "    )  \n",
    "\n",
    "lr_ratio.summary()"
   ]
  },
  {
   "cell_type": "markdown",
   "metadata": {},
   "source": [
    "The results of linear regression model on match ratios of 1:1, 2:1, and 3:1 show that all but a ratio of 1:1 are statistically significant. The intercept coefficient (meaning when there is no match) is 0.018, and then for ratio 1:1 it has a coefficient of 0.003, which added to 0.018 is 0.021. For ratio 2:1 and 3:1, they both have coefficients of 0.005, creating a response rate of 0.023 for both. All these response rates match table 2A in the paper.\n",
    "\n",
    "The precision of these estimates also match what is in the paper for standard error. Each ratio has a standard error of 0.002, meaning that ratio 1:1 could have a varying effect on response rate between 0.001 and 0.005, and ratios 2:1 and 3:1 could vary between 0.003 and 0.007. All however remain positive when incorporating standard error, meaning that the match ratio does have a positive effect on response rate when comparing to control."
   ]
  },
  {
   "cell_type": "markdown",
   "metadata": {},
   "source": [
    "The difference in responsive rate between 1:1 and 2:1 match ratios is 0.002, and between 2:1 and 3:1 match ratios is 0. From this, we can conclude that increasing makes a very small difference from 1:1 to 2:1 but no difference between 2:1 and 3:1. Overall, increasing the match donation above 1:1 does not make a large difference in response rate. "
   ]
  }
 ],
 "metadata": {
  "kernelspec": {
   "display_name": "base",
   "language": "python",
   "name": "python3"
  },
  "language_info": {
   "codemirror_mode": {
    "name": "ipython",
    "version": 3
   },
   "file_extension": ".py",
   "mimetype": "text/x-python",
   "name": "python",
   "nbconvert_exporter": "python",
   "pygments_lexer": "ipython3",
   "version": "3.11.7"
  }
 },
 "nbformat": 4,
 "nbformat_minor": 2
}
