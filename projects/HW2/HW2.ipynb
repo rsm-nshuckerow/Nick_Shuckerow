{
 "cells": [
  {
   "cell_type": "markdown",
   "metadata": {},
   "source": [
    "_todo: Read in data._"
   ]
  },
  {
   "cell_type": "code",
   "execution_count": 2,
   "metadata": {},
   "outputs": [
    {
     "data": {
      "text/html": [
       "<div>\n",
       "<style scoped>\n",
       "    .dataframe tbody tr th:only-of-type {\n",
       "        vertical-align: middle;\n",
       "    }\n",
       "\n",
       "    .dataframe tbody tr th {\n",
       "        vertical-align: top;\n",
       "    }\n",
       "\n",
       "    .dataframe thead th {\n",
       "        text-align: right;\n",
       "    }\n",
       "</style>\n",
       "<table border=\"1\" class=\"dataframe\">\n",
       "  <thead>\n",
       "    <tr style=\"text-align: right;\">\n",
       "      <th></th>\n",
       "      <th>Unnamed: 0</th>\n",
       "      <th>patents</th>\n",
       "      <th>region</th>\n",
       "      <th>age</th>\n",
       "      <th>iscustomer</th>\n",
       "    </tr>\n",
       "  </thead>\n",
       "  <tbody>\n",
       "    <tr>\n",
       "      <th>0</th>\n",
       "      <td>1</td>\n",
       "      <td>0</td>\n",
       "      <td>Midwest</td>\n",
       "      <td>32.5</td>\n",
       "      <td>0</td>\n",
       "    </tr>\n",
       "    <tr>\n",
       "      <th>1</th>\n",
       "      <td>786</td>\n",
       "      <td>3</td>\n",
       "      <td>Southwest</td>\n",
       "      <td>37.5</td>\n",
       "      <td>0</td>\n",
       "    </tr>\n",
       "    <tr>\n",
       "      <th>2</th>\n",
       "      <td>348</td>\n",
       "      <td>4</td>\n",
       "      <td>Northwest</td>\n",
       "      <td>27.0</td>\n",
       "      <td>1</td>\n",
       "    </tr>\n",
       "    <tr>\n",
       "      <th>3</th>\n",
       "      <td>927</td>\n",
       "      <td>3</td>\n",
       "      <td>Northeast</td>\n",
       "      <td>24.5</td>\n",
       "      <td>0</td>\n",
       "    </tr>\n",
       "    <tr>\n",
       "      <th>4</th>\n",
       "      <td>830</td>\n",
       "      <td>3</td>\n",
       "      <td>Southwest</td>\n",
       "      <td>37.0</td>\n",
       "      <td>0</td>\n",
       "    </tr>\n",
       "  </tbody>\n",
       "</table>\n",
       "</div>"
      ],
      "text/plain": [
       "   Unnamed: 0  patents     region   age  iscustomer\n",
       "0           1        0    Midwest  32.5           0\n",
       "1         786        3  Southwest  37.5           0\n",
       "2         348        4  Northwest  27.0           1\n",
       "3         927        3  Northeast  24.5           0\n",
       "4         830        3  Southwest  37.0           0"
      ]
     },
     "execution_count": 2,
     "metadata": {},
     "output_type": "execute_result"
    }
   ],
   "source": [
    "import pandas as pd\n",
    "import matplotlib.pyplot as plt\n",
    "\n",
    "# Load the data\n",
    "\n",
    "data = pd.read_csv('blueprinty.csv')\n",
    "\n",
    "data.head()"
   ]
  },
  {
   "cell_type": "code",
   "execution_count": 3,
   "metadata": {},
   "outputs": [
    {
     "data": {
      "text/plain": [
       "1500"
      ]
     },
     "execution_count": 3,
     "metadata": {},
     "output_type": "execute_result"
    }
   ],
   "source": [
    "# coutn the number of unique values in the column 'Unnamed: 0'\n",
    "\n",
    "data['Unnamed: 0'].nunique()"
   ]
  },
  {
   "cell_type": "markdown",
   "metadata": {},
   "source": [
    "_todo: Compare histograms and means of number of patents by customer status. What do you observe?_\n"
   ]
  },
  {
   "cell_type": "code",
   "execution_count": 4,
   "metadata": {},
   "outputs": [
    {
     "data": {
      "text/plain": [
       "197"
      ]
     },
     "execution_count": 4,
     "metadata": {},
     "output_type": "execute_result"
    }
   ],
   "source": [
    "# count number of customers and non-customers\n",
    "\n",
    "data[data['iscustomer']==1]['iscustomer'].count()\n"
   ]
  },
  {
   "cell_type": "code",
   "execution_count": 5,
   "metadata": {},
   "outputs": [
    {
     "data": {
      "text/plain": [
       "1303"
      ]
     },
     "execution_count": 5,
     "metadata": {},
     "output_type": "execute_result"
    }
   ],
   "source": [
    "data[data['iscustomer']==0]['iscustomer'].count()"
   ]
  },
  {
   "cell_type": "code",
   "execution_count": 6,
   "metadata": {},
   "outputs": [
    {
     "data": {
      "text/plain": [
       "Text(0.5, 1.0, 'Frequency of Patents for Customers')"
      ]
     },
     "execution_count": 6,
     "metadata": {},
     "output_type": "execute_result"
    },
    {
     "data": {
      "image/png": "[encoded data removed]",
      "text/plain": [
       "<Figure size 640x480 with 1 Axes>"
      ]
     },
     "metadata": {},
     "output_type": "display_data"
    }
   ],
   "source": [
    "# make histogram of # of patents for Customers\n",
    "\n",
    "\n",
    "data[data['iscustomer'] == 1]['patents'].hist()\n",
    "\n",
    "plt.xlabel('Number of Patents')\n",
    "plt.ylabel('Frequency')\n",
    "plt.title('Frequency of Patents for Customers')\n"
   ]
  },
  {
   "cell_type": "code",
   "execution_count": 7,
   "metadata": {},
   "outputs": [
    {
     "data": {
      "text/plain": [
       "Text(0.5, 1.0, 'Frequency of Patents for Non-Customers')"
      ]
     },
     "execution_count": 7,
     "metadata": {},
     "output_type": "execute_result"
    },
    {
     "data": {
      "image/png": "[encoded data removed]",
      "text/plain": [
       "<Figure size 640x480 with 1 Axes>"
      ]
     },
     "metadata": {},
     "output_type": "display_data"
    }
   ],
   "source": [
    "# make histogram of # of patents for Non-Customers\n",
    "\n",
    "data[data['iscustomer'] == 0]['patents'].hist(color='orange')\n",
    "plt.xlabel('Number of Patents')\n",
    "plt.ylabel('Frequency')\n",
    "plt.title('Frequency of Patents for Non-Customers')\n",
    "\n"
   ]
  },
  {
   "cell_type": "markdown",
   "metadata": {},
   "source": [
    "The number of patents for customers is slightly skewed right, however it has a more normal distribution than the number of patents for non-customers.\n",
    "\n",
    "Both plots have a large drop off around 6 patents (For customers it is slightly less than 6). The number of non-customers is significantly higher than the number of customers, totaling to 1303 non-customers and 197 customers. The mean number of patents for customers was 4.09 and the mean number of patents for non-customers was 3.62. This is a difference of about 0.5 patents."
   ]
  },
  {
   "cell_type": "code",
   "execution_count": 8,
   "metadata": {},
   "outputs": [
    {
     "name": "stdout",
     "output_type": "stream",
     "text": [
      "Mean patents for customers: 4.09\n",
      "Mean patents for non-customers: 3.62\n"
     ]
    }
   ],
   "source": [
    "mean_patents_customers = data[data['iscustomer'] == 1]['patents'].mean()\n",
    "mean_patents_noncustomers = data[data['iscustomer'] == 0]['patents'].mean()\n",
    "\n",
    "print('Mean patents for customers:', round(mean_patents_customers,2))\n",
    "print('Mean patents for non-customers:', round(mean_patents_noncustomers,2))"
   ]
  },
  {
   "cell_type": "markdown",
   "metadata": {},
   "source": [
    "_todo: Compare regions and ages by customer status. What do you observe?_"
   ]
  },
  {
   "cell_type": "code",
   "execution_count": 9,
   "metadata": {},
   "outputs": [
    {
     "data": {
      "text/html": [
       "<div>\n",
       "<style scoped>\n",
       "    .dataframe tbody tr th:only-of-type {\n",
       "        vertical-align: middle;\n",
       "    }\n",
       "\n",
       "    .dataframe tbody tr th {\n",
       "        vertical-align: top;\n",
       "    }\n",
       "\n",
       "    .dataframe thead th {\n",
       "        text-align: right;\n",
       "    }\n",
       "</style>\n",
       "<table border=\"1\" class=\"dataframe\">\n",
       "  <thead>\n",
       "    <tr style=\"text-align: right;\">\n",
       "      <th>iscustomer</th>\n",
       "      <th>0</th>\n",
       "      <th>1</th>\n",
       "      <th>prop0</th>\n",
       "      <th>prop1</th>\n",
       "    </tr>\n",
       "    <tr>\n",
       "      <th>region</th>\n",
       "      <th></th>\n",
       "      <th></th>\n",
       "      <th></th>\n",
       "      <th></th>\n",
       "    </tr>\n",
       "  </thead>\n",
       "  <tbody>\n",
       "    <tr>\n",
       "      <th>Midwest</th>\n",
       "      <td>207</td>\n",
       "      <td>17</td>\n",
       "      <td>0.158864</td>\n",
       "      <td>0.086294</td>\n",
       "    </tr>\n",
       "    <tr>\n",
       "      <th>Northeast</th>\n",
       "      <td>488</td>\n",
       "      <td>113</td>\n",
       "      <td>0.374520</td>\n",
       "      <td>0.573604</td>\n",
       "    </tr>\n",
       "    <tr>\n",
       "      <th>Northwest</th>\n",
       "      <td>171</td>\n",
       "      <td>16</td>\n",
       "      <td>0.131236</td>\n",
       "      <td>0.081218</td>\n",
       "    </tr>\n",
       "    <tr>\n",
       "      <th>South</th>\n",
       "      <td>171</td>\n",
       "      <td>20</td>\n",
       "      <td>0.131236</td>\n",
       "      <td>0.101523</td>\n",
       "    </tr>\n",
       "    <tr>\n",
       "      <th>Southwest</th>\n",
       "      <td>266</td>\n",
       "      <td>31</td>\n",
       "      <td>0.204144</td>\n",
       "      <td>0.157360</td>\n",
       "    </tr>\n",
       "  </tbody>\n",
       "</table>\n",
       "</div>"
      ],
      "text/plain": [
       "iscustomer    0    1     prop0     prop1\n",
       "region                                  \n",
       "Midwest     207   17  0.158864  0.086294\n",
       "Northeast   488  113  0.374520  0.573604\n",
       "Northwest   171   16  0.131236  0.081218\n",
       "South       171   20  0.131236  0.101523\n",
       "Southwest   266   31  0.204144  0.157360"
      ]
     },
     "execution_count": 9,
     "metadata": {},
     "output_type": "execute_result"
    }
   ],
   "source": [
    "# group by region and count number of customers and non-customers\n",
    "\n",
    "region = data.groupby('region')['iscustomer'].value_counts().unstack()\n",
    "region['prop0'] = region[0]/(region[0].sum())\n",
    "region['prop1'] = region[1]/(region[1].sum())\n",
    "region\n"
   ]
  },
  {
   "cell_type": "code",
   "execution_count": 10,
   "metadata": {},
   "outputs": [
    {
     "data": {
      "text/plain": [
       "<matplotlib.legend.Legend at 0x7f4f53bb8410>"
      ]
     },
     "execution_count": 10,
     "metadata": {},
     "output_type": "execute_result"
    },
    {
     "data": {
      "image/png": "[encoded data removed]",
      "text/plain": [
       "<Figure size 640x480 with 1 Axes>"
      ]
     },
     "metadata": {},
     "output_type": "display_data"
    }
   ],
   "source": [
    "# create a plot of the number of customers and non-customers by region side by side\n",
    "\n",
    "data.groupby('region')['iscustomer'].value_counts().unstack().plot(kind='bar', stacked=False)\n",
    "\n",
    "plt.xlabel('Region')\n",
    "plt.ylabel('Count')\n",
    "plt.title('Number of Customers and Non-Customers by Region')\n",
    "plt.legend(['Non-Customer', 'Customer'])"
   ]
  },
  {
   "cell_type": "markdown",
   "metadata": {},
   "source": [
    "The Northeast has by far the most customers and non-customers, and the number of non-customers in each region clearly outweighs the number of customers. Although ranking each respective customer and non-customer base by region comes out to be nearly the same ranking, the proportions are different. \n",
    "\n",
    "For the customers, nearly 60% are from the NE, while only 40% of non-customers are from the NE. "
   ]
  },
  {
   "cell_type": "code",
   "execution_count": 11,
   "metadata": {},
   "outputs": [
    {
     "name": "stderr",
     "output_type": "stream",
     "text": [
      "/tmp/ipykernel_16197/318244717.py:5: FutureWarning: The default of observed=False is deprecated and will be changed to True in a future version of pandas. Pass observed=False to retain current behavior or observed=True to adopt the future default and silence this warning.\n",
      "  age = data.groupby('age_bins')['iscustomer'].value_counts().unstack()\n"
     ]
    },
    {
     "data": {
      "text/html": [
       "<div>\n",
       "<style scoped>\n",
       "    .dataframe tbody tr th:only-of-type {\n",
       "        vertical-align: middle;\n",
       "    }\n",
       "\n",
       "    .dataframe tbody tr th {\n",
       "        vertical-align: top;\n",
       "    }\n",
       "\n",
       "    .dataframe thead th {\n",
       "        text-align: right;\n",
       "    }\n",
       "</style>\n",
       "<table border=\"1\" class=\"dataframe\">\n",
       "  <thead>\n",
       "    <tr style=\"text-align: right;\">\n",
       "      <th>iscustomer</th>\n",
       "      <th>0</th>\n",
       "      <th>1</th>\n",
       "      <th>prop0</th>\n",
       "      <th>prop1</th>\n",
       "    </tr>\n",
       "    <tr>\n",
       "      <th>age_bins</th>\n",
       "      <th></th>\n",
       "      <th></th>\n",
       "      <th></th>\n",
       "      <th></th>\n",
       "    </tr>\n",
       "  </thead>\n",
       "  <tbody>\n",
       "    <tr>\n",
       "      <th>(0, 5]</th>\n",
       "      <td>0</td>\n",
       "      <td>0</td>\n",
       "      <td>0.000000</td>\n",
       "      <td>0.000000</td>\n",
       "    </tr>\n",
       "    <tr>\n",
       "      <th>(5, 10]</th>\n",
       "      <td>3</td>\n",
       "      <td>3</td>\n",
       "      <td>0.002302</td>\n",
       "      <td>0.015228</td>\n",
       "    </tr>\n",
       "    <tr>\n",
       "      <th>(10, 15]</th>\n",
       "      <td>52</td>\n",
       "      <td>15</td>\n",
       "      <td>0.039908</td>\n",
       "      <td>0.076142</td>\n",
       "    </tr>\n",
       "    <tr>\n",
       "      <th>(15, 20]</th>\n",
       "      <td>213</td>\n",
       "      <td>53</td>\n",
       "      <td>0.163469</td>\n",
       "      <td>0.269036</td>\n",
       "    </tr>\n",
       "    <tr>\n",
       "      <th>(20, 25]</th>\n",
       "      <td>318</td>\n",
       "      <td>51</td>\n",
       "      <td>0.244052</td>\n",
       "      <td>0.258883</td>\n",
       "    </tr>\n",
       "    <tr>\n",
       "      <th>(25, 30]</th>\n",
       "      <td>301</td>\n",
       "      <td>32</td>\n",
       "      <td>0.231005</td>\n",
       "      <td>0.162437</td>\n",
       "    </tr>\n",
       "    <tr>\n",
       "      <th>(30, 35]</th>\n",
       "      <td>244</td>\n",
       "      <td>24</td>\n",
       "      <td>0.187260</td>\n",
       "      <td>0.121827</td>\n",
       "    </tr>\n",
       "    <tr>\n",
       "      <th>(35, 40]</th>\n",
       "      <td>135</td>\n",
       "      <td>13</td>\n",
       "      <td>0.103607</td>\n",
       "      <td>0.065990</td>\n",
       "    </tr>\n",
       "    <tr>\n",
       "      <th>(40, 45]</th>\n",
       "      <td>34</td>\n",
       "      <td>5</td>\n",
       "      <td>0.026094</td>\n",
       "      <td>0.025381</td>\n",
       "    </tr>\n",
       "    <tr>\n",
       "      <th>(45, 50]</th>\n",
       "      <td>3</td>\n",
       "      <td>1</td>\n",
       "      <td>0.002302</td>\n",
       "      <td>0.005076</td>\n",
       "    </tr>\n",
       "    <tr>\n",
       "      <th>(50, 55]</th>\n",
       "      <td>0</td>\n",
       "      <td>0</td>\n",
       "      <td>0.000000</td>\n",
       "      <td>0.000000</td>\n",
       "    </tr>\n",
       "  </tbody>\n",
       "</table>\n",
       "</div>"
      ],
      "text/plain": [
       "iscustomer    0   1     prop0     prop1\n",
       "age_bins                               \n",
       "(0, 5]        0   0  0.000000  0.000000\n",
       "(5, 10]       3   3  0.002302  0.015228\n",
       "(10, 15]     52  15  0.039908  0.076142\n",
       "(15, 20]    213  53  0.163469  0.269036\n",
       "(20, 25]    318  51  0.244052  0.258883\n",
       "(25, 30]    301  32  0.231005  0.162437\n",
       "(30, 35]    244  24  0.187260  0.121827\n",
       "(35, 40]    135  13  0.103607  0.065990\n",
       "(40, 45]     34   5  0.026094  0.025381\n",
       "(45, 50]      3   1  0.002302  0.005076\n",
       "(50, 55]      0   0  0.000000  0.000000"
      ]
     },
     "execution_count": 11,
     "metadata": {},
     "output_type": "execute_result"
    }
   ],
   "source": [
    "# group by age with bins every 5 years and count number of customers and non-customers\n",
    "\n",
    "data['age_bins'] = pd.cut(data['age'], bins=range(0, 60, 5))\n",
    "\n",
    "age = data.groupby('age_bins')['iscustomer'].value_counts().unstack()\n",
    "age['prop0'] = age[0]/(age[0].sum())\n",
    "age['prop1'] = age[1]/(age[1].sum())\n",
    "age\n"
   ]
  },
  {
   "cell_type": "code",
   "execution_count": 12,
   "metadata": {},
   "outputs": [
    {
     "name": "stderr",
     "output_type": "stream",
     "text": [
      "/tmp/ipykernel_16197/3883190071.py:1: FutureWarning: The default of observed=False is deprecated and will be changed to True in a future version of pandas. Pass observed=False to retain current behavior or observed=True to adopt the future default and silence this warning.\n",
      "  data.groupby('age_bins')['iscustomer'].value_counts().unstack().plot(kind='bar', stacked=False)\n"
     ]
    },
    {
     "data": {
      "text/plain": [
       "<matplotlib.legend.Legend at 0x7f4f5349e6d0>"
      ]
     },
     "execution_count": 12,
     "metadata": {},
     "output_type": "execute_result"
    },
    {
     "data": {
      "image/png": "[encoded data removed]",
      "text/plain": [
       "<Figure size 640x480 with 1 Axes>"
      ]
     },
     "metadata": {},
     "output_type": "display_data"
    }
   ],
   "source": [
    "\n",
    "data.groupby('age_bins')['iscustomer'].value_counts().unstack().plot(kind='bar', stacked=False)\n",
    "plt.xlabel('Age of Company')\n",
    "plt.ylabel('Count')\n",
    "plt.title('Number of Customers and Non-Customers by Age of Company')\n",
    "plt.legend(['Non-Customer', 'Customer'])"
   ]
  },
  {
   "cell_type": "code",
   "execution_count": 13,
   "metadata": {},
   "outputs": [
    {
     "name": "stdout",
     "output_type": "stream",
     "text": [
      "Mean age for customers: 24.15\n",
      "Mean age for non-customers: 26.69\n"
     ]
    }
   ],
   "source": [
    "# find mean age for customers and non-customers\n",
    "\n",
    "mean_age_customers = data[data['iscustomer'] == 1]['age'].mean()\n",
    "mean_age_noncustomers = data[data['iscustomer'] == 0]['age'].mean()\n",
    "\n",
    "\n",
    "print('Mean age for customers:', round(mean_age_customers,2))\n",
    "print('Mean age for non-customers:', round(mean_age_noncustomers,2))"
   ]
  },
  {
   "cell_type": "code",
   "execution_count": 14,
   "metadata": {},
   "outputs": [
    {
     "name": "stdout",
     "output_type": "stream",
     "text": [
      "95% CI for mean age of customers: 23.09 25.21\n",
      "95% CI for mean age of non-customers: 26.3 27.08\n"
     ]
    }
   ],
   "source": [
    "# Calculate a 95% confidence interval for the mean age of customers and non-customers\n",
    "\n",
    "import numpy as np\n",
    "\n",
    "std_age_customers = data[data['iscustomer'] == 1]['age'].std()\n",
    "std_age_noncustomers = data[data['iscustomer'] == 0]['age'].std()\n",
    "\n",
    "n_customers = data[data['iscustomer'] == 1]['age'].count()\n",
    "n_noncustomers = data[data['iscustomer'] == 0]['age'].count()\n",
    "\n",
    "z = 1.96\n",
    "\n",
    "ci_customers = z * (std_age_customers/np.sqrt(n_customers))\n",
    "ci_noncustomers = z * (std_age_noncustomers/np.sqrt(n_noncustomers))\n",
    "\n",
    "print('95% CI for mean age of customers:', round(mean_age_customers-ci_customers,2), round(mean_age_customers+ci_customers,2))\n",
    "print('95% CI for mean age of non-customers:', round(mean_age_noncustomers-ci_noncustomers,2), round(mean_age_noncustomers+ci_noncustomers,2))"
   ]
  },
  {
   "cell_type": "markdown",
   "metadata": {},
   "source": [
    "The most customers come from companies which are between 15-20 years old, with the average company age being about 24 years. The most non-customers come from companies which are between 20-25 years old, with the average company age being about 27 years.\n",
    "\n",
    "The distribution of company ages for customers and non-customers resembles a normal distribution, with a slight skew to the right. The largest disparity between the two distributions is at the 10-15 year mark, where the % of non-customers is 10% lower than that of customers (16%, 26%).\n",
    "\n",
    "The confidence interval for the mean age of customers is (23.1, 25.2) and the confidence interval for the mean age of non-customers is (26.3, 27.1)."
   ]
  },
  {
   "cell_type": "markdown",
   "metadata": {},
   "source": [
    "Write down mathematically the likelihood for_ $Y \\sim \\text{Poisson}(\\lambda)$. Note that $f(Y|\\lambda) = e^{-\\lambda}\\lambda^Y/Y!$."
   ]
  },
  {
   "cell_type": "markdown",
   "metadata": {},
   "source": [
    "Code the likelihood (or log-likelihood) function for the Poisson model. This is a function of lambda and Y. For example:_\n"
   ]
  },
  {
   "cell_type": "code",
   "execution_count": 15,
   "metadata": {},
   "outputs": [],
   "source": [
    "def poisson_log_likelihood(lam, y):\n",
    "    \"\"\"\n",
    "    Compute the log likelihood of observing data y under a Poisson distribution with parameter lam.\n",
    "\n",
    "    Parameters:\n",
    "    - lam (float): The rate parameter (lambda) of the Poisson distribution.\n",
    "    - y (array-like): Array of observed counts.\n",
    "\n",
    "    Returns:\n",
    "    - float: The log likelihood of observing the data given lam.\n",
    "    \"\"\"\n",
    "    y = np.array(y)\n",
    "    n = len(y)  # number of observations\n",
    "    sum_y = np.sum(y)  # sum of all observed counts\n",
    "\n",
    "    # Calculate each part of the log likelihood\n",
    "    # log(P(Y|lam)) = -n * lam + sum_y * log(lam) - log(y_i!)\n",
    "    # We use np.sum(np.log(y_factorials)) to sum log of factorials\n",
    "    log_likelihood = -n * lam + sum_y * np.log(lam) - np.sum([np.log(np.math.factorial(i)) for i in y])\n",
    "    return log_likelihood"
   ]
  },
  {
   "cell_type": "code",
   "execution_count": 16,
   "metadata": {},
   "outputs": [
    {
     "name": "stderr",
     "output_type": "stream",
     "text": [
      "/tmp/ipykernel_16197/963855135.py:19: DeprecationWarning: `np.math` is a deprecated alias for the standard library `math` module (Deprecated Numpy 1.25). Replace usages of `np.math` with `math`\n",
      "  log_likelihood = -n * lam + sum_y * np.log(lam) - np.sum([np.log(np.math.factorial(i)) for i in y])\n"
     ]
    },
    {
     "data": {
      "text/plain": [
       "[-6548.886990069443,\n",
       " -4217.862523114625,\n",
       " -3476.856870600801,\n",
       " -3386.838056159808,\n",
       " -3653.52364804617,\n",
       " -4145.8324036459835,\n",
       " -4793.841596240727,\n",
       " -5555.81358920499,\n",
       " -6404.826751132159,\n",
       " -7322.4991810913525]"
      ]
     },
     "execution_count": 16,
     "metadata": {},
     "output_type": "execute_result"
    }
   ],
   "source": [
    "years = range(1,11)\n",
    "log_likelihood_values = []\n",
    "\n",
    "for i in years:\n",
    "    log_likelihood_value = poisson_log_likelihood(i, data['patents'])\n",
    "    log_likelihood_values.append(log_likelihood_value)\n",
    "\n",
    "log_likelihood_values"
   ]
  },
  {
   "cell_type": "markdown",
   "metadata": {},
   "source": [
    "_todo: Use your function to plot lambda on the horizontal axis and the likelihood (or log-likelihood) on the vertical axis for a range of lambdas (use the observed number of patents as the input for Y)."
   ]
  },
  {
   "cell_type": "code",
   "execution_count": 17,
   "metadata": {},
   "outputs": [
    {
     "data": {
      "image/png": "[encoded data removed]",
      "text/plain": [
       "<Figure size 640x480 with 1 Axes>"
      ]
     },
     "metadata": {},
     "output_type": "display_data"
    }
   ],
   "source": [
    "# _todo: Use your function to plot lambda on the horizontal axis and the likelihood (or log-likelihood) on the vertical axis for a range of lambdas (use the observed number of patents as the input for Y).\n",
    "\n",
    "plt.plot(years, log_likelihood_values)\n",
    "plt.xlabel('Years (lambda)')\n",
    "plt.ylabel('Likelihood')\n",
    "plt.title('Likelihood of observing the data given Years')\n",
    "plt.show()"
   ]
  },
  {
   "cell_type": "code",
   "execution_count": 18,
   "metadata": {},
   "outputs": [],
   "source": [
    "from scipy.optimize import minimize\n",
    "\n",
    "def neg_poisson_log_likelihood(lam, y):\n",
    "    \"\"\"\n",
    "    Compute the log likelihood of observing data y under a Poisson distribution with parameter lam.\n",
    "\n",
    "    Parameters:\n",
    "    - lam (float): The rate parameter (lambda) of the Poisson distribution.\n",
    "    - y (array-like): Array of observed counts.\n",
    "\n",
    "    Returns:\n",
    "    - float: The log likelihood of observing the data given lam.\n",
    "    \"\"\"\n",
    "    y = np.array(y)\n",
    "    n = len(y)  # number of observations\n",
    "    sum_y = np.sum(y)  # sum of all observed counts\n",
    "\n",
    "    # Calculate each part of the log likelihood\n",
    "    # log(P(Y|lam)) = -n * lam + sum_y * log(lam) - log(y_i!)\n",
    "    # We use np.sum(np.log(y_factorials)) to sum log of factorials\n",
    "    return -(-n * lam + sum_y * np.log(lam) - np.sum([np.log(np.math.factorial(i)) for i in y]))\n",
    "    "
   ]
  },
  {
   "cell_type": "code",
   "execution_count": 19,
   "metadata": {},
   "outputs": [
    {
     "name": "stderr",
     "output_type": "stream",
     "text": [
      "/tmp/ipykernel_16197/354120658.py:21: DeprecationWarning: `np.math` is a deprecated alias for the standard library `math` module (Deprecated Numpy 1.25). Replace usages of `np.math` with `math`\n",
      "  return -(-n * lam + sum_y * np.log(lam) - np.sum([np.log(np.math.factorial(i)) for i in y]))\n"
     ]
    },
    {
     "data": {
      "text/plain": [
       "  message: CONVERGENCE: NORM_OF_PROJECTED_GRADIENT_<=_PGTOL\n",
       "  success: True\n",
       "   status: 0\n",
       "      fun: 3367.683772235094\n",
       "        x: [ 3.685e+00]\n",
       "      nit: 0\n",
       "      jac: [ 0.000e+00]\n",
       "     nfev: 2\n",
       "     njev: 1\n",
       " hess_inv: <1x1 LbfgsInvHessProduct with dtype=float64>"
      ]
     },
     "execution_count": 19,
     "metadata": {},
     "output_type": "execute_result"
    }
   ],
   "source": [
    "mean = np.mean(data['patents'])\n",
    "\n",
    "result = minimize(neg_poisson_log_likelihood, mean, args=(data['patents']), bounds = [(0, None)])\n",
    "\n",
    "result"
   ]
  },
  {
   "cell_type": "markdown",
   "metadata": {},
   "source": [
    "Next, we extend our simple Poisson model to a Poisson Regression Model such that $Y_i = \\text{Poisson}(\\lambda_i)$ where $\\lambda_i = \\exp(X_i'\\beta)$. The interpretation is that the success rate of patent awards is not constant across all firms ($\\lambda$) but rather is a function of firm characteristics $X_i$. Specifically, we will use the covariates age, age squared, region, and whether the firm is a customer of Blueprinty."
   ]
  },
  {
   "cell_type": "markdown",
   "metadata": {},
   "source": [
    "_todo: Update your likelihood or log-likelihood function with an additional argument to take in a covariate matrix X. Also change the parameter of the model from lambda to the beta vector. In this model, lambda must be a positive number, so we choose the inverse link function g() to be exp() so that_ $\\lambda_i = e^{X_i'\\beta}$. _For example:_\n",
    "\n",
    "```\n",
    "poisson_regression_likelihood <- function(beta, Y, X){\n",
    "   ...\n",
    "}"
   ]
  },
  {
   "cell_type": "code",
   "execution_count": 20,
   "metadata": {},
   "outputs": [],
   "source": [
    "import numpy as np\n",
    "from scipy.optimize import minimize\n",
    "from scipy.special import factorial\n",
    "\n",
    "def poisson_regression_log_likelihood(beta, Y, X):\n",
    " \n",
    "    # Calculate lambda for each observation\n",
    "    lambda_i = np.exp(np.dot(X, beta))\n",
    "    \n",
    "    # Calculate the log likelihood\n",
    "    log_likelihood = np.sum(Y * np.log(lambda_i) - lambda_i - np.log(factorial(Y)))\n",
    "    \n",
    "    # Return the negative log likelihood\n",
    "    return -log_likelihood"
   ]
  },
  {
   "cell_type": "markdown",
   "metadata": {},
   "source": [
    "_todo: Use your function along with R's optim() or Python's sp.optimize() to find the MLE vector and the Hessian of the Poisson model with covariates. Specifically, the first column of X should be all 1's to enable a constant term in the model, and the subsequent columns should be age, age squared, binary variables for all but one of the regions, and the binary customer variable. Use the Hessian to find standard errors of the beta parameter estimates and present a table of coefficients and standard errors._\n"
   ]
  },
  {
   "cell_type": "code",
   "execution_count": 21,
   "metadata": {},
   "outputs": [],
   "source": [
    "# convert regions column to binary columns\n",
    "\n",
    "data = pd.get_dummies(data, columns=['region'])"
   ]
  },
  {
   "cell_type": "code",
   "execution_count": 22,
   "metadata": {},
   "outputs": [],
   "source": [
    "data['age_squared'] = data['age']**2"
   ]
  },
  {
   "cell_type": "code",
   "execution_count": 23,
   "metadata": {},
   "outputs": [
    {
     "name": "stderr",
     "output_type": "stream",
     "text": [
      "/tmp/ipykernel_16197/1165065463.py:8: RuntimeWarning: overflow encountered in exp\n",
      "  lambda_i = np.exp(np.dot(X, beta))\n",
      "/opt/conda/lib/python3.11/site-packages/numpy/core/_methods.py:49: RuntimeWarning: overflow encountered in reduce\n",
      "  return umr_sum(a, axis, dtype, out, keepdims, initial, where)\n"
     ]
    },
    {
     "name": "stderr",
     "output_type": "stream",
     "text": [
      "/opt/conda/lib/python3.11/site-packages/scipy/optimize/_numdiff.py:576: RuntimeWarning: invalid value encountered in subtract\n",
      "  df = fun(x) - f0\n"
     ]
    },
    {
     "name": "stdout",
     "output_type": "stream",
     "text": [
      "Optimal beta: [0. 0. 0. 0. 0. 0. 0. 0.]\n",
      "Success: False\n",
      "Message: Desired error not necessarily achieved due to precision loss.\n"
     ]
    },
    {
     "name": "stderr",
     "output_type": "stream",
     "text": [
      "/tmp/ipykernel_16197/1165065463.py:8: RuntimeWarning: overflow encountered in exp\n",
      "  lambda_i = np.exp(np.dot(X, beta))\n",
      "/opt/conda/lib/python3.11/site-packages/numpy/core/_methods.py:49: RuntimeWarning: overflow encountered in reduce\n",
      "  return umr_sum(a, axis, dtype, out, keepdims, initial, where)\n"
     ]
    }
   ],
   "source": [
    "\n",
    "n = len(data)  # Number of observations\n",
    "X = np.c_[np.ones(n).tolist(), data['age'], data['age_squared'], data['iscustomer'], data['region_Midwest'], data['region_Northwest'],\n",
    "          data['region_Northeast'], data['region_South']]\n",
    "Y = data['patents']\n",
    "\n",
    "# Initial guess for beta\n",
    "initial_beta = np.zeros(X.shape[1])\n",
    "\n",
    "# Minimization\n",
    "result = minimize(poisson_regression_log_likelihood, initial_beta, args = (Y, X), method= 'BFGS')\n",
    "\n",
    "print(\"Optimal beta:\", result.x)\n",
    "print(\"Success:\", result.success)\n",
    "print(\"Message:\", result.message)"
   ]
  },
  {
   "cell_type": "code",
   "execution_count": 24,
   "metadata": {},
   "outputs": [
    {
     "data": {
      "text/plain": [
       "\"def debug_poisson_log_likelihood(beta, Y, X):\\n    eta = np.dot(X, beta)\\n    max_eta = np.max(eta)\\n    lambda_i = np.exp(eta - max_eta)\\n    log_lambda = eta - max_eta\\n    debug_info = {\\n        'max_eta': max_eta,\\n        'max_exp_term': np.max(lambda_i),\\n        'min_log_term': np.min(log_lambda)\\n    }\\n    print(debug_info)\\n    log_likelihood = np.sum(Y * eta - lambda_i * np.exp(max_eta) - gammaln(Y + 1))\\n    return -log_likelihood\\n\\n# Run the optimization with debug function\\nresult = minimize(debug_poisson_log_likelihood, initial_beta, args=(Y, X), method='BFGS')\\n\""
      ]
     },
     "execution_count": 24,
     "metadata": {},
     "output_type": "execute_result"
    }
   ],
   "source": [
    "'''def debug_poisson_log_likelihood(beta, Y, X):\n",
    "    eta = np.dot(X, beta)\n",
    "    max_eta = np.max(eta)\n",
    "    lambda_i = np.exp(eta - max_eta)\n",
    "    log_lambda = eta - max_eta\n",
    "    debug_info = {\n",
    "        'max_eta': max_eta,\n",
    "        'max_exp_term': np.max(lambda_i),\n",
    "        'min_log_term': np.min(log_lambda)\n",
    "    }\n",
    "    print(debug_info)\n",
    "    log_likelihood = np.sum(Y * eta - lambda_i * np.exp(max_eta) - gammaln(Y + 1))\n",
    "    return -log_likelihood\n",
    "\n",
    "# Run the optimization with debug function\n",
    "result = minimize(debug_poisson_log_likelihood, initial_beta, args=(Y, X), method='BFGS')\n",
    "'''"
   ]
  },
  {
   "cell_type": "code",
   "execution_count": 25,
   "metadata": {},
   "outputs": [
    {
     "name": "stdout",
     "output_type": "stream",
     "text": [
      "Optimal beta: [ 1.26678511  1.04646002 -1.14084548  0.11811439 -0.05134702 -0.07144126\n",
      "  0.04724896  0.00582491]\n",
      "Success: True\n",
      "Message: Optimization terminated successfully.\n"
     ]
    }
   ],
   "source": [
    "import numpy as np\n",
    "from scipy.optimize import minimize\n",
    "from scipy.special import gammaln, logsumexp\n",
    "\n",
    "def poisson_regression_log_likelihood(beta, Y, X):\n",
    "    eta = np.dot(X, beta)\n",
    "    # Clip eta to prevent overflow in the exp() call, adjust max_eta based on domain knowledge\n",
    "    eta = np.clip(eta, None, 20)  # Clip eta to a maximum of 20 to prevent overflow\n",
    "    lambda_i = np.exp(eta)\n",
    "    log_likelihood = np.sum(Y * eta - lambda_i - gammaln(Y + 1))\n",
    "    return -log_likelihood\n",
    "\n",
    "# Load and preprocess your data as before, ensuring that features are scaled\n",
    "from sklearn.preprocessing import StandardScaler\n",
    "\n",
    "scaler = StandardScaler()\n",
    "# Assuming 'age' and 'age_squared' need scaling\n",
    "data['age'] = scaler.fit_transform(data[['age']])\n",
    "data['age_squared'] = scaler.fit_transform(data[['age_squared']])\n",
    "\n",
    "# Assuming that you already converted regions into dummy variables and set up the data correctly\n",
    "X = np.c_[np.ones(len(data)), data['age'], data['age_squared'], data['iscustomer'], data['region_Midwest'], data['region_Northwest'],\n",
    "          data['region_Northeast'], data['region_South']]\n",
    "Y = data['patents'].values\n",
    "\n",
    "# Initial guess for beta\n",
    "initial_beta = np.zeros(X.shape[1])\n",
    "\n",
    "# Minimization using a more controlled approach\n",
    "result = minimize(poisson_regression_log_likelihood, initial_beta, args=(Y, X), method='BFGS')\n",
    "\n",
    "print(\"Optimal beta:\", result.x)\n",
    "print(\"Success:\", result.success)\n",
    "print(\"Message:\", result.message)\n"
   ]
  },
  {
   "cell_type": "code",
   "execution_count": 26,
   "metadata": {},
   "outputs": [
    {
     "name": "stdout",
     "output_type": "stream",
     "text": [
      "                 Generalized Linear Model Regression Results                  \n",
      "==============================================================================\n",
      "Dep. Variable:                      y   No. Observations:                 1500\n",
      "Model:                            GLM   Df Residuals:                     1492\n",
      "Model Family:                 Poisson   Df Model:                            7\n",
      "Link Function:                    Log   Scale:                          1.0000\n",
      "Method:                          IRLS   Log-Likelihood:                -3275.9\n",
      "Date:                Mon, 29 Apr 2024   Deviance:                       2178.8\n",
      "Time:                        16:11:29   Pearson chi2:                 2.11e+03\n",
      "No. Iterations:                     5   Pseudo R-squ. (CS):             0.1152\n",
      "Covariance Type:            nonrobust                                         \n",
      "==============================================================================\n",
      "                 coef    std err          z      P>|z|      [0.025      0.975]\n",
      "------------------------------------------------------------------------------\n",
      "const          1.2668      0.031     41.293      0.000       1.207       1.327\n",
      "x1             1.0465      0.100     10.414      0.000       0.850       1.243\n",
      "x2            -1.1408      0.102    -11.131      0.000      -1.342      -0.940\n",
      "x3             0.1181      0.039      3.035      0.002       0.042       0.194\n",
      "x4            -0.0513      0.047     -1.088      0.277      -0.144       0.041\n",
      "x5            -0.0714      0.050     -1.432      0.152      -0.169       0.026\n",
      "x6             0.0472      0.037      1.287      0.198      -0.025       0.119\n",
      "x7             0.0058      0.049      0.119      0.905      -0.090       0.101\n",
      "==============================================================================\n"
     ]
    }
   ],
   "source": [
    "# _todo: Check your results using R's glm() function or Python sm.GLM() function._\n",
    "\n",
    "import statsmodels.api as sm\n",
    "\n",
    "# Fit a Poisson regression model using statsmodels\n",
    "\n",
    "poisson_model = sm.GLM(Y, X, family=sm.families.Poisson()).fit()\n",
    "\n",
    "# Print the summary of the model\n",
    "\n",
    "print(poisson_model.summary())"
   ]
  },
  {
   "cell_type": "code",
   "execution_count": 27,
   "metadata": {},
   "outputs": [
    {
     "name": "stdout",
     "output_type": "stream",
     "text": [
      "Standard Errors: [0.03187209 0.09687213 0.097367   0.04029995 0.0489745  0.05032832\n",
      " 0.0386722  0.05010062]\n"
     ]
    }
   ],
   "source": [
    "# Calculate Hessian at the optimal beta\n",
    "from scipy.linalg import inv\n",
    "hessian_inv = result.hess_inv  # Inverse Hessian is returned by BFGS\n",
    "\n",
    "# Standard errors are the square roots of the diagonal elements of the inverse Hessian\n",
    "std_errors = np.sqrt(np.diag(hessian_inv))\n",
    "\n",
    "print(\"Standard Errors:\", std_errors)"
   ]
  },
  {
   "cell_type": "markdown",
   "metadata": {},
   "source": [
    "We can conclude, based on our optimal beta's through our regression model, that Blueprinty's software has a positive effect on the number of patents awarded to a company. The coefficient or beta calculated for \"iscustomer\" is 0.11, meaning if they are a customer of the software, the humber of patents earned increases by 0.11. \n",
    "\n",
    "We also see that p-value of \"iscustomer\" is 0.002, meaning there is only a 0.2% chance that the coefficient has zero affect on the number of patents given the dataset. "
   ]
  }
 ],
 "metadata": {
  "kernelspec": {
   "display_name": "base",
   "language": "python",
   "name": "python3"
  },
  "language_info": {
   "codemirror_mode": {
    "name": "ipython",
    "version": 3
   },
   "file_extension": ".py",
   "mimetype": "text/x-python",
   "name": "python",
   "nbconvert_exporter": "python",
   "pygments_lexer": "ipython3",
   "version": "3.11.7"
  }
 },
 "nbformat": 4,
 "nbformat_minor": 2
}
